{
 "cells": [
  {
   "cell_type": "markdown",
   "metadata": {},
   "source": [
    "## Getting started\n",
    "\n",
    "This is a Jupyter notebook. It allows you to execute the python code that is written in its _cells_.\n",
    "\n",
    "To execute the code, select a cell and press Ctrl-Enter.\n",
    "\n",
    "The next cell should print `Hello, world!` if everything is OK and the Python is available.\n",
    "\n",
    "It might take awhile the very first time you do this, but should be within 1 minute. "
   ]
  },
  {
   "cell_type": "code",
   "execution_count": 1,
   "metadata": {
    "execution": {
     "iopub.execute_input": "2023-03-31T18:03:27.822893Z",
     "iopub.status.busy": "2023-03-31T18:03:27.821348Z",
     "iopub.status.idle": "2023-03-31T18:03:27.847145Z",
     "shell.execute_reply": "2023-03-31T18:03:27.844804Z"
    }
   },
   "outputs": [
    {
     "name": "stdout",
     "output_type": "stream",
     "text": [
      "Hello world!\n"
     ]
    }
   ],
   "source": [
    "print(\"Hello world!\")"
   ]
  },
  {
   "cell_type": "markdown",
   "metadata": {},
   "source": [
    "The next cell checks if `kaia` was installed correctly. If it doesn't print `Success`, go back to the `readme.md` and repeat the \"Creating environment\" section."
   ]
  },
  {
   "cell_type": "code",
   "execution_count": 2,
   "metadata": {
    "execution": {
     "iopub.execute_input": "2023-03-31T18:03:27.921155Z",
     "iopub.status.busy": "2023-03-31T18:03:27.920856Z",
     "iopub.status.idle": "2023-03-31T18:03:28.895727Z",
     "shell.execute_reply": "2023-03-31T18:03:28.894944Z"
    }
   },
   "outputs": [
    {
     "name": "stdout",
     "output_type": "stream",
     "text": [
      "Success!\n"
     ]
    }
   ],
   "source": [
    "from kaia.infra import Loc\n",
    "\n",
    "print('Success!')"
   ]
  },
  {
   "cell_type": "markdown",
   "metadata": {},
   "source": [
    "The next cell will execute all the tests that are available. It takes awhile and prints a lot of debug information in the process, but if everything is fine, the debug output is removed and \"Success!\" is printed. "
   ]
  },
  {
   "cell_type": "code",
   "execution_count": 3,
   "metadata": {
    "execution": {
     "iopub.execute_input": "2023-03-31T18:03:28.899429Z",
     "iopub.status.busy": "2023-03-31T18:03:28.898697Z",
     "iopub.status.idle": "2023-03-31T18:03:43.432052Z",
     "shell.execute_reply": "2023-03-31T18:03:43.430917Z"
    }
   },
   "outputs": [
    {
     "name": "stdout",
     "output_type": "stream",
     "text": [
      "Success!\n"
     ]
    }
   ],
   "source": [
    "import subprocess\n",
    "import sys\n",
    "from IPython.display import clear_output\n",
    "assert 0 == subprocess.call([sys.executable, '-m', 'unittest', 'discover', '..'])\n",
    "clear_output()\n",
    "print('Success!')"
   ]
  }
 ],
 "metadata": {
  "kernelspec": {
   "display_name": "Python 3 (ipykernel)",
   "language": "python",
   "name": "python3"
  },
  "language_info": {
   "codemirror_mode": {
    "name": "ipython",
    "version": 3
   },
   "file_extension": ".py",
   "mimetype": "text/x-python",
   "name": "python",
   "nbconvert_exporter": "python",
   "pygments_lexer": "ipython3",
   "version": "3.8.16"
  }
 },
 "nbformat": 4,
 "nbformat_minor": 4
}
