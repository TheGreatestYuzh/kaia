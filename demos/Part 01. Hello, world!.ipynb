{
 "cells": [
  {
   "cell_type": "markdown",
   "metadata": {},
   "source": [
    "## Getting started\n",
    "\n",
    "This is a Jupyter notebook. It allows you to execute the python code that is written in its _cells_.\n",
    "\n",
    "To execute the code, select a cell and press Ctrl-Enter.\n",
    "\n",
    "The next cell should print `Hello, world!` if everything is OK and the Python is available.\n"
   ]
  },
  {
   "cell_type": "code",
   "execution_count": 5,
   "metadata": {},
   "outputs": [
    {
     "name": "stdout",
     "output_type": "stream",
     "text": [
      "Hello world!\n"
     ]
    }
   ],
   "source": [
    "print(\"Hello world!\")"
   ]
  },
  {
   "cell_type": "markdown",
   "metadata": {},
   "source": [
    "The next cell checks if `kaia` was installed correctly. If it doesn't print `Success`, go back to the `readme.md` and repeat the \"Creating environment\" section."
   ]
  },
  {
   "cell_type": "code",
   "execution_count": 6,
   "metadata": {},
   "outputs": [
    {
     "name": "stdout",
     "output_type": "stream",
     "text": [
      "Success!\n"
     ]
    }
   ],
   "source": [
    "from kaia.infra import Loc\n",
    "\n",
    "print('Success!')"
   ]
  },
  {
   "cell_type": "markdown",
   "metadata": {},
   "source": [
    "The next cell will execute all the tests that are available. If it passes (so you can see OK in the last line of the output), it means everything is good and you can proceed to the next notebook."
   ]
  },
  {
   "cell_type": "code",
   "execution_count": 7,
   "metadata": {},
   "outputs": [
    {
     "name": "stdout",
     "output_type": "stream",
     "text": [
      ".........................../home/yura/anaconda3/envs/kaia_test/lib/python3.8/unittest/case.py:633: ResourceWarning: unclosed file <_io.TextIOWrapper name='/home/yura/Desktop/repos/kaia/kaia/test_infra/temp/current.jsonlines' mode='a' encoding='UTF-8'>\n",
      "  method()\n",
      "ResourceWarning: Enable tracemalloc to get the object allocation traceback\n",
      ".....\n",
      "----------------------------------------------------------------------\n",
      "Ran 32 tests in 4.914s\n",
      "\n",
      "OK\n"
     ]
    }
   ],
   "source": [
    "!python -m unittest discover ../kaia"
   ]
  }
 ],
 "metadata": {
  "kernelspec": {
   "display_name": "Python 3 (ipykernel)",
   "language": "python",
   "name": "python3"
  },
  "language_info": {
   "codemirror_mode": {
    "name": "ipython",
    "version": 3
   },
   "file_extension": ".py",
   "mimetype": "text/x-python",
   "name": "python",
   "nbconvert_exporter": "python",
   "pygments_lexer": "ipython3",
   "version": "3.8.16"
  }
 },
 "nbformat": 4,
 "nbformat_minor": 4
}
