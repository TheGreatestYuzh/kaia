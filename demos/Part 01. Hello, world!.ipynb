{
 "cells": [
  {
   "cell_type": "markdown",
   "metadata": {},
   "source": [
    "## Getting started\n",
    "\n",
    "This is a Jupyter notebook. It allows you to execute the python code that is written in its _cells_.\n",
    "\n",
    "To execute the code, select a cell and press Ctrl-Enter.\n",
    "\n",
    "The next cell should print `Hello, world!` if everything is OK and the Python is available.\n",
    "\n",
    "It might take awhile the very first time you do this, but should be within 1 minute. "
   ]
  },
  {
   "cell_type": "code",
   "execution_count": 1,
   "metadata": {
    "execution": {
     "iopub.execute_input": "2023-03-24T14:11:06.142567Z",
     "iopub.status.busy": "2023-03-24T14:11:06.141540Z",
     "iopub.status.idle": "2023-03-24T14:11:06.169473Z",
     "shell.execute_reply": "2023-03-24T14:11:06.167629Z"
    }
   },
   "outputs": [
    {
     "name": "stdout",
     "output_type": "stream",
     "text": [
      "Hello world!\n"
     ]
    }
   ],
   "source": [
    "print(\"Hello world!\")"
   ]
  },
  {
   "cell_type": "markdown",
   "metadata": {},
   "source": [
    "The next cell checks if `kaia` was installed correctly. If it doesn't print `Success`, go back to the `readme.md` and repeat the \"Creating environment\" section."
   ]
  },
  {
   "cell_type": "code",
   "execution_count": 2,
   "metadata": {
    "execution": {
     "iopub.execute_input": "2023-03-24T14:11:06.217547Z",
     "iopub.status.busy": "2023-03-24T14:11:06.217314Z",
     "iopub.status.idle": "2023-03-24T14:11:06.800877Z",
     "shell.execute_reply": "2023-03-24T14:11:06.800161Z"
    }
   },
   "outputs": [
    {
     "name": "stdout",
     "output_type": "stream",
     "text": [
      "Success!\n"
     ]
    }
   ],
   "source": [
    "from kaia.infra import Loc\n",
    "\n",
    "print('Success!')"
   ]
  },
  {
   "cell_type": "markdown",
   "metadata": {},
   "source": [
    "The next cell will execute all the tests that are available. If it passes (so you can see OK in the last line of the output), it means everything is good and you can proceed to the next notebook."
   ]
  },
  {
   "cell_type": "code",
   "execution_count": 3,
   "metadata": {
    "execution": {
     "iopub.execute_input": "2023-03-24T14:11:06.803215Z",
     "iopub.status.busy": "2023-03-24T14:11:06.802935Z",
     "iopub.status.idle": "2023-03-24T14:11:13.397346Z",
     "shell.execute_reply": "2023-03-24T14:11:13.393687Z"
    }
   },
   "outputs": [
    {
     "name": "stdout",
     "output_type": "stream",
     "text": [
      "..................."
     ]
    },
    {
     "name": "stdout",
     "output_type": "stream",
     "text": [
      "."
     ]
    },
    {
     "name": "stdout",
     "output_type": "stream",
     "text": [
      "."
     ]
    },
    {
     "name": "stdout",
     "output_type": "stream",
     "text": [
      ".."
     ]
    },
    {
     "name": "stdout",
     "output_type": "stream",
     "text": [
      "."
     ]
    },
    {
     "name": "stdout",
     "output_type": "stream",
     "text": [
      "."
     ]
    },
    {
     "name": "stdout",
     "output_type": "stream",
     "text": [
      "."
     ]
    },
    {
     "name": "stdout",
     "output_type": "stream",
     "text": [
      "...."
     ]
    },
    {
     "name": "stdout",
     "output_type": "stream",
     "text": [
      "."
     ]
    },
    {
     "name": "stdout",
     "output_type": "stream",
     "text": [
      ".\r\n",
      "----------------------------------------------------------------------\r\n",
      "Ran 32 tests in 4.859s\r\n",
      "\r\n",
      "OK\r\n"
     ]
    }
   ],
   "source": [
    "!python -m unittest discover ../kaia"
   ]
  }
 ],
 "metadata": {
  "kernelspec": {
   "display_name": "Python 3 (ipykernel)",
   "language": "python",
   "name": "python3"
  },
  "language_info": {
   "codemirror_mode": {
    "name": "ipython",
    "version": 3
   },
   "file_extension": ".py",
   "mimetype": "text/x-python",
   "name": "python",
   "nbconvert_exporter": "python",
   "pygments_lexer": "ipython3",
   "version": "3.8.16"
  }
 },
 "nbformat": 4,
 "nbformat_minor": 4
}
