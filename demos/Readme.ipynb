{
 "cells": [
  {
   "cell_type": "markdown",
   "metadata": {},
   "source": [
    "## Getting started\n",
    "\n",
    "This is a Jupyter notebook. It allows you to execute the python code that is written in its _cells_.\n",
    "\n",
    "To execute the code, select a cell and press Ctrl-Enter.\n",
    "\n",
    "The next cell should print `Hello, world!` if everything is OK and the Python is available.\n",
    "\n",
    "It might take awhile the very first time you do this, but should be within 1 minute. "
   ]
  },
  {
   "cell_type": "code",
   "execution_count": 1,
   "metadata": {
    "execution": {
     "iopub.execute_input": "2023-04-22T08:44:23.790687Z",
     "iopub.status.busy": "2023-04-22T08:44:23.790158Z",
     "iopub.status.idle": "2023-04-22T08:44:23.809953Z",
     "shell.execute_reply": "2023-04-22T08:44:23.809251Z"
    }
   },
   "outputs": [
    {
     "name": "stdout",
     "output_type": "stream",
     "text": [
      "Hello world!\n"
     ]
    }
   ],
   "source": [
    "print(\"Hello world!\")"
   ]
  },
  {
   "cell_type": "markdown",
   "metadata": {},
   "source": [
    "The next cell checks if `kaia` was installed correctly. If it doesn't print `Success`, go back to the `readme.md` and repeat the \"Creating environment\" section."
   ]
  },
  {
   "cell_type": "code",
   "execution_count": 2,
   "metadata": {
    "execution": {
     "iopub.execute_input": "2023-04-22T08:44:23.848644Z",
     "iopub.status.busy": "2023-04-22T08:44:23.848364Z",
     "iopub.status.idle": "2023-04-22T08:44:23.865585Z",
     "shell.execute_reply": "2023-04-22T08:44:23.864875Z"
    }
   },
   "outputs": [
    {
     "name": "stdout",
     "output_type": "stream",
     "text": [
      "Success!\n"
     ]
    }
   ],
   "source": [
    "from kaia.infra import Loc\n",
    "\n",
    "print('Success!')"
   ]
  },
  {
   "cell_type": "markdown",
   "metadata": {},
   "source": [
    "The next cell will execute the critical infrastructure tests that all `kaia` project must share to successfully communicate with each other. If the following cell won't print \"Success\", something is wrong with your installation and you need to fix it."
   ]
  },
  {
   "cell_type": "code",
   "execution_count": 3,
   "metadata": {
    "execution": {
     "iopub.execute_input": "2023-04-22T08:44:23.868050Z",
     "iopub.status.busy": "2023-04-22T08:44:23.867803Z",
     "iopub.status.idle": "2023-04-22T08:44:52.408841Z",
     "shell.execute_reply": "2023-04-22T08:44:52.407921Z"
    }
   },
   "outputs": [
    {
     "name": "stdout",
     "output_type": "stream",
     "text": [
      "Success!\n"
     ]
    }
   ],
   "source": [
    "import subprocess\n",
    "import sys\n",
    "from IPython.display import clear_output\n",
    "assert 0 == subprocess.call([sys.executable, '-m', 'unittest', 'discover', '../kaia_tests/test_infra'])\n",
    "clear_output()\n",
    "print('Success!')"
   ]
  },
  {
   "cell_type": "markdown",
   "metadata": {},
   "source": [
    "Now you may proceed to the demontrations. The following subprojects of Kaia are presented here:\n",
    "    \n",
    "* `eaglesong` allows you to easily define chat flows for Telegram chatbots, voice assistants or similar revices, and seamlessly augment them with ML-enhancements."
   ]
  }
 ],
 "metadata": {
  "kernelspec": {
   "display_name": "Python 3 (ipykernel)",
   "language": "python",
   "name": "python3"
  },
  "language_info": {
   "codemirror_mode": {
    "name": "ipython",
    "version": 3
   },
   "file_extension": ".py",
   "mimetype": "text/x-python",
   "name": "python",
   "nbconvert_exporter": "python",
   "pygments_lexer": "ipython3",
   "version": "3.8.16"
  }
 },
 "nbformat": 4,
 "nbformat_minor": 4
}
