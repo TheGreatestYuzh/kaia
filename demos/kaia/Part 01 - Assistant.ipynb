{
 "cells": [
  {
   "cell_type": "markdown",
   "id": "088f2b53-1840-4bc2-b395-f5902a83d901",
   "metadata": {},
   "source": [
    "## Introduction\n",
    "\n",
    "`kaia` is an assistant that utilizes other projects for the end-user functonality. All code in `kaia` module is run on the assistant device: a RhaspberryPi 4 with a connected medium-sized LED display and conference mic.\n",
    "\n",
    "The backbone of `kaia` is `eaglesong`. `kaia.core` defines Driver and Interpreter, a standard way to connect eaglesong to the medium. In particular, driver connects to Rhasspy and feeds every recognized utterance into eaglesong loop. Interpreter sends audio outputs to Rhasspy for playing, and images and text outputs are sent to the internal `KaiaWebServer`. All this runs in the docker container on the assistant device. Outside of the container, the firefox is running in the kiosk mode. It fetches the non-audio messages from the web-server and presents them to the user.\n",
    "\n",
    "To prevent Driver and Interpreter from turning into superclasses, lots of functionality is detached from them and placed into Translators. Translators are the `eaglesong` wraps that are placed between the \"main\" routine `KaiaAssistant` and the driver/interpreter, and their function is to pre/post-process the inputs and the outputs of the `KaiaAssistant`. Exactly this is done for e.g. voiceover: if the `KaiaAssistant` produces a string, this translator intercepts this string, sends to `avatar` and turns it into an audio.\n",
    "\n",
    "`KaiaAssistant` is an `eaglesong` routine that does not depend on `avatar`, `brainbox` or anything else. The main job of `KaiaAssistant` is to dispatch the incoming messages to the _skills_, such as current time skill, wheather skill etc. So the skills are main content producers of the system, while `KaiaAssistant`, translators, driver, interpreter, webserver and the webpage inside Firefox are infractructural means to deliver this content to the user.\n",
    "\n",
    "The simplest skill is `SingleLineKaiaSkill`: such skills just process one input, return one output and that's all, so there is no lasting conversations. They are easiest two write, and lots of examples are given in `kaia.skills` folder. \n",
    "\n",
    "Sometimes we do however want a lasting conversation. While this functionality is possible and there is already a pilot implementation of it in `NotificationSkill`, it is still very new and there are a lot of questions like \"what to do if one lasting conversation is interrupted by another\". The proper orchestration of such long-lasting conversations is still pending.\n",
    "\n",
    "Now, to the testing of all this. It can be implemented on many different levels:\n",
    "* Each skill can be tested with the standard `eaglesong` testing means.\n",
    "* `KaiaAssistant` with some skills can also be tested by standard `eaglesong` means to check if the skills' interaction is proper\n",
    "* `KaiaAssistant` with skills and translators can be tested by `eaglesong` means, if mock web servers for Avatar and Brainbox are set. Both services are supplied with `*TestApi` that allows to run them in place of tests.\n",
    "* The system as a whole, so `KaiaAssistant`, skills, translators _and_ driver and interpreter cannot be tested at this moment. So we mostly test them in production. Alternatively, `KaiaAssistant` with skills and translators can be tested with other drivers/interpreters.\n"
   ]
  },
  {
   "cell_type": "markdown",
   "id": "a593ab77-e991-4733-9c39-55b15b5dac8c",
   "metadata": {},
   "source": [
    "Let's explore how to run such skill. First, we need to write it. A blueprint for a skill is this: you write templates for inputs and outputs, and then a skill to, essentially, bind them together."
   ]
  },
  {
   "cell_type": "code",
   "execution_count": 1,
   "id": "10c30b12-a2b5-44f0-ae1e-9c6917f2f325",
   "metadata": {},
   "outputs": [
    {
     "data": {
      "text/html": [
       "<h3>time.py</h3><br><br><style>pre { line-height: 125%; }\n",
       "td.linenos .normal { color: inherit; background-color: transparent; padding-left: 5px; padding-right: 5px; }\n",
       "span.linenos { color: inherit; background-color: transparent; padding-left: 5px; padding-right: 5px; }\n",
       "td.linenos .special { color: #000000; background-color: #ffffc0; padding-left: 5px; padding-right: 5px; }\n",
       "span.linenos.special { color: #000000; background-color: #ffffc0; padding-left: 5px; padding-right: 5px; }\n",
       ".hll { background-color: #ffffcc }\n",
       ".c { color: #3D7B7B; font-style: italic } /* Comment */\n",
       ".err { border: 1px solid #FF0000 } /* Error */\n",
       ".k { color: #008000; font-weight: bold } /* Keyword */\n",
       ".o { color: #666666 } /* Operator */\n",
       ".ch { color: #3D7B7B; font-style: italic } /* Comment.Hashbang */\n",
       ".cm { color: #3D7B7B; font-style: italic } /* Comment.Multiline */\n",
       ".cp { color: #9C6500 } /* Comment.Preproc */\n",
       ".cpf { color: #3D7B7B; font-style: italic } /* Comment.PreprocFile */\n",
       ".c1 { color: #3D7B7B; font-style: italic } /* Comment.Single */\n",
       ".cs { color: #3D7B7B; font-style: italic } /* Comment.Special */\n",
       ".gd { color: #A00000 } /* Generic.Deleted */\n",
       ".ge { font-style: italic } /* Generic.Emph */\n",
       ".ges { font-weight: bold; font-style: italic } /* Generic.EmphStrong */\n",
       ".gr { color: #E40000 } /* Generic.Error */\n",
       ".gh { color: #000080; font-weight: bold } /* Generic.Heading */\n",
       ".gi { color: #008400 } /* Generic.Inserted */\n",
       ".go { color: #717171 } /* Generic.Output */\n",
       ".gp { color: #000080; font-weight: bold } /* Generic.Prompt */\n",
       ".gs { font-weight: bold } /* Generic.Strong */\n",
       ".gu { color: #800080; font-weight: bold } /* Generic.Subheading */\n",
       ".gt { color: #0044DD } /* Generic.Traceback */\n",
       ".kc { color: #008000; font-weight: bold } /* Keyword.Constant */\n",
       ".kd { color: #008000; font-weight: bold } /* Keyword.Declaration */\n",
       ".kn { color: #008000; font-weight: bold } /* Keyword.Namespace */\n",
       ".kp { color: #008000 } /* Keyword.Pseudo */\n",
       ".kr { color: #008000; font-weight: bold } /* Keyword.Reserved */\n",
       ".kt { color: #B00040 } /* Keyword.Type */\n",
       ".m { color: #666666 } /* Literal.Number */\n",
       ".s { color: #BA2121 } /* Literal.String */\n",
       ".na { color: #687822 } /* Name.Attribute */\n",
       ".nb { color: #008000 } /* Name.Builtin */\n",
       ".nc { color: #0000FF; font-weight: bold } /* Name.Class */\n",
       ".no { color: #880000 } /* Name.Constant */\n",
       ".nd { color: #AA22FF } /* Name.Decorator */\n",
       ".ni { color: #717171; font-weight: bold } /* Name.Entity */\n",
       ".ne { color: #CB3F38; font-weight: bold } /* Name.Exception */\n",
       ".nf { color: #0000FF } /* Name.Function */\n",
       ".nl { color: #767600 } /* Name.Label */\n",
       ".nn { color: #0000FF; font-weight: bold } /* Name.Namespace */\n",
       ".nt { color: #008000; font-weight: bold } /* Name.Tag */\n",
       ".nv { color: #19177C } /* Name.Variable */\n",
       ".ow { color: #AA22FF; font-weight: bold } /* Operator.Word */\n",
       ".w { color: #bbbbbb } /* Text.Whitespace */\n",
       ".mb { color: #666666 } /* Literal.Number.Bin */\n",
       ".mf { color: #666666 } /* Literal.Number.Float */\n",
       ".mh { color: #666666 } /* Literal.Number.Hex */\n",
       ".mi { color: #666666 } /* Literal.Number.Integer */\n",
       ".mo { color: #666666 } /* Literal.Number.Oct */\n",
       ".sa { color: #BA2121 } /* Literal.String.Affix */\n",
       ".sb { color: #BA2121 } /* Literal.String.Backtick */\n",
       ".sc { color: #BA2121 } /* Literal.String.Char */\n",
       ".dl { color: #BA2121 } /* Literal.String.Delimiter */\n",
       ".sd { color: #BA2121; font-style: italic } /* Literal.String.Doc */\n",
       ".s2 { color: #BA2121 } /* Literal.String.Double */\n",
       ".se { color: #AA5D1F; font-weight: bold } /* Literal.String.Escape */\n",
       ".sh { color: #BA2121 } /* Literal.String.Heredoc */\n",
       ".si { color: #A45A77; font-weight: bold } /* Literal.String.Interpol */\n",
       ".sx { color: #008000 } /* Literal.String.Other */\n",
       ".sr { color: #A45A77 } /* Literal.String.Regex */\n",
       ".s1 { color: #BA2121 } /* Literal.String.Single */\n",
       ".ss { color: #19177C } /* Literal.String.Symbol */\n",
       ".bp { color: #008000 } /* Name.Builtin.Pseudo */\n",
       ".fm { color: #0000FF } /* Name.Function.Magic */\n",
       ".vc { color: #19177C } /* Name.Variable.Class */\n",
       ".vg { color: #19177C } /* Name.Variable.Global */\n",
       ".vi { color: #19177C } /* Name.Variable.Instance */\n",
       ".vm { color: #19177C } /* Name.Variable.Magic */\n",
       ".il { color: #666666 } /* Literal.Number.Integer.Long */</style><div class=\"highlight\"><pre><span></span><span class=\"kn\">from</span> <span class=\"nn\">typing</span> <span class=\"kn\">import</span> <span class=\"o\">*</span>\n",
       "<span class=\"kn\">from</span> <span class=\"nn\">kaia.avatar.dub.languages.en</span> <span class=\"kn\">import</span> <span class=\"o\">*</span>\n",
       "<span class=\"kn\">from</span> <span class=\"nn\">..core</span> <span class=\"kn\">import</span> <span class=\"n\">SingleLineKaiaSkill</span>\n",
       "<span class=\"kn\">from</span> <span class=\"nn\">datetime</span> <span class=\"kn\">import</span> <span class=\"n\">datetime</span>\n",
       "\n",
       "<span class=\"k\">class</span> <span class=\"nc\">TimeIntents</span><span class=\"p\">(</span><span class=\"n\">TemplatesCollection</span><span class=\"p\">):</span>\n",
       "    <span class=\"n\">question</span> <span class=\"o\">=</span> <span class=\"n\">Template</span><span class=\"p\">(</span>\n",
       "        <span class=\"s1\">&#39;What time is it?&#39;</span><span class=\"p\">,</span>\n",
       "        <span class=\"s1\">&#39;What is the time?&#39;</span>\n",
       "    <span class=\"p\">)</span>\n",
       "\n",
       "\n",
       "<span class=\"k\">class</span> <span class=\"nc\">TimeReplies</span><span class=\"p\">(</span><span class=\"n\">TemplatesCollection</span><span class=\"p\">):</span>\n",
       "    <span class=\"n\">answer</span> <span class=\"o\">=</span> <span class=\"n\">Template</span><span class=\"p\">(</span>\n",
       "        <span class=\"s1\">&#39;It is </span><span class=\"si\">{hours}</span><span class=\"s1\"> </span><span class=\"si\">{hours_word}</span><span class=\"s1\"> and </span><span class=\"si\">{minutes}</span><span class=\"s1\"> </span><span class=\"si\">{minutes_word}</span><span class=\"s1\">.&#39;</span><span class=\"p\">,</span>\n",
       "        <span class=\"n\">hours</span> <span class=\"o\">=</span> <span class=\"n\">CardinalDub</span><span class=\"p\">(</span><span class=\"mi\">0</span><span class=\"p\">,</span> <span class=\"mi\">24</span><span class=\"p\">),</span>\n",
       "        <span class=\"n\">hours_word</span> <span class=\"o\">=</span> <span class=\"n\">PluralAgreement</span><span class=\"p\">(</span><span class=\"s1\">&#39;hours&#39;</span><span class=\"p\">,</span> <span class=\"s1\">&#39;hour&#39;</span><span class=\"p\">,</span> <span class=\"s1\">&#39;hours&#39;</span><span class=\"p\">),</span>\n",
       "        <span class=\"n\">minutes</span> <span class=\"o\">=</span> <span class=\"n\">CardinalDub</span><span class=\"p\">(</span><span class=\"mi\">0</span><span class=\"p\">,</span> <span class=\"mi\">60</span><span class=\"p\">),</span>\n",
       "        <span class=\"n\">minutes_word</span> <span class=\"o\">=</span> <span class=\"n\">PluralAgreement</span><span class=\"p\">(</span><span class=\"s1\">&#39;minutes&#39;</span><span class=\"p\">,</span> <span class=\"s1\">&#39;minute&#39;</span><span class=\"p\">,</span> <span class=\"s1\">&#39;minutes&#39;</span><span class=\"p\">)</span>\n",
       "    <span class=\"p\">)</span>\n",
       "\n",
       "<span class=\"k\">class</span> <span class=\"nc\">TimeSkill</span><span class=\"p\">(</span><span class=\"n\">SingleLineKaiaSkill</span><span class=\"p\">):</span>\n",
       "    <span class=\"k\">def</span> <span class=\"fm\">__init__</span><span class=\"p\">(</span><span class=\"bp\">self</span><span class=\"p\">,</span> <span class=\"n\">datetime_factory</span><span class=\"p\">:</span> <span class=\"n\">Callable</span><span class=\"p\">[[],</span> <span class=\"n\">datetime</span><span class=\"p\">]</span> <span class=\"o\">=</span> <span class=\"n\">datetime</span><span class=\"o\">.</span><span class=\"n\">now</span><span class=\"p\">):</span>\n",
       "        <span class=\"bp\">self</span><span class=\"o\">.</span><span class=\"n\">datetime_factory</span> <span class=\"o\">=</span> <span class=\"n\">datetime_factory</span>\n",
       "        <span class=\"nb\">super</span><span class=\"p\">()</span><span class=\"o\">.</span><span class=\"fm\">__init__</span><span class=\"p\">(</span>\n",
       "            <span class=\"n\">TimeIntents</span><span class=\"p\">,</span>\n",
       "            <span class=\"n\">TimeReplies</span><span class=\"p\">,</span>\n",
       "        <span class=\"p\">)</span>\n",
       "\n",
       "    <span class=\"k\">def</span> <span class=\"nf\">run</span><span class=\"p\">(</span><span class=\"bp\">self</span><span class=\"p\">):</span>\n",
       "        <span class=\"n\">time</span> <span class=\"o\">=</span> <span class=\"bp\">self</span><span class=\"o\">.</span><span class=\"n\">datetime_factory</span><span class=\"p\">()</span>\n",
       "        <span class=\"k\">yield</span> <span class=\"n\">TimeReplies</span><span class=\"o\">.</span><span class=\"n\">answer</span><span class=\"o\">.</span><span class=\"n\">utter</span><span class=\"p\">(</span><span class=\"n\">hours</span> <span class=\"o\">=</span> <span class=\"n\">time</span><span class=\"o\">.</span><span class=\"n\">hour</span><span class=\"p\">,</span> <span class=\"n\">minutes</span> <span class=\"o\">=</span> <span class=\"n\">time</span><span class=\"o\">.</span><span class=\"n\">minute</span><span class=\"p\">)</span>\n",
       "</pre></div>\n"
      ],
      "text/plain": [
       "<IPython.core.display.HTML object>"
      ]
     },
     "execution_count": 1,
     "metadata": {},
     "output_type": "execute_result"
    }
   ],
   "source": [
    "from kaia.infra.demos import py_to_notebook\n",
    "from pathlib import Path\n",
    "\n",
    "py_to_notebook([Path('../../kaia/kaia/skills/time.py')])"
   ]
  },
  {
   "cell_type": "markdown",
   "id": "23229a0c-d3d7-4934-92f4-27587e1d93ce",
   "metadata": {},
   "source": [
    "Then, we can create home assistant from this skill and, say, DateSkill. We can then test it with Eaglesong scenarios."
   ]
  },
  {
   "cell_type": "code",
   "execution_count": 2,
   "id": "a91ccb95-58ec-493a-8ed1-7ace5c61d663",
   "metadata": {},
   "outputs": [
    {
     "name": "stdout",
     "output_type": "stream",
     "text": [
      "\u001b[94mprompt    \u001b[0m [Utterance] What time is it?\n",
      "\u001b[94mresponse       \u001b[0m [Utterance] It is twenty three hours and sixteen minutes.\n",
      "\u001b[94mprompt    \u001b[0m [Utterance] What is the date?\n",
      "\u001b[94mresponse       \u001b[0m [Utterance] It is Saturday, February seventeenth year twenty twenty four.\n"
     ]
    }
   ],
   "source": [
    "from kaia.kaia.skills import KaiaTestAssistant, TimeSkill, DateSkill\n",
    "from kaia.kaia.skills.time import TimeIntents, TimeReplies\n",
    "from kaia.kaia.skills.date import DateIntents, DateReplies\n",
    "from kaia.eaglesong.core import Scenario, Automaton\n",
    "\n",
    "ha = KaiaTestAssistant([TimeSkill(), DateSkill()])\n",
    "\n",
    "(Scenario(lambda: Automaton(ha,None))\n",
    " .send(TimeIntents.question.utter())\n",
    " .check(TimeReplies.answer.utter().assertion.template_only)\n",
    " .send(DateIntents.question.utter())\n",
    " .check(DateReplies.answer.utter().assertion.template_only)\n",
    " .validate()\n",
    ")\n",
    "pass"
   ]
  }
 ],
 "metadata": {
  "kernelspec": {
   "display_name": "Python 3 (ipykernel)",
   "language": "python",
   "name": "python3"
  },
  "language_info": {
   "codemirror_mode": {
    "name": "ipython",
    "version": 3
   },
   "file_extension": ".py",
   "mimetype": "text/x-python",
   "name": "python",
   "nbconvert_exporter": "python",
   "pygments_lexer": "ipython3",
   "version": "3.11.7"
  }
 },
 "nbformat": 4,
 "nbformat_minor": 5
}
