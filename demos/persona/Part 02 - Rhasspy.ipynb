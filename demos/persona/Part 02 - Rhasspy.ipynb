{
 "cells": [
  {
   "cell_type": "markdown",
   "id": "bbfcf532",
   "metadata": {},
   "source": [
    "Rhasspy is a magnificent voice management software. It's open-source, multi-platform and allows API to:\n",
    "\n",
    "* Manage mic and speakers\n",
    "* Runs speech recognition that is based on predefined sentences\n",
    "* Has a text-to-speech features, although it's less impressive\n",
    "* Manages wake-up-word\n",
    "\n",
    "In other words, Rhasspy is a solid foundation for our home assistant.\n",
    "\n",
    "Simplest way to install it is Docker. First, you need to have Docker on your local machine. Then run the following cell with uncommented last line:"
   ]
  },
  {
   "cell_type": "code",
   "execution_count": 3,
   "id": "a6a2ea7e",
   "metadata": {},
   "outputs": [],
   "source": [
    "from kaia.infra import ConsoleExecutor, Loc\n",
    "\n",
    "def run_rhasspy():\n",
    "    ConsoleExecutor.wait = True\n",
    "    ConsoleExecutor.execute(\n",
    "        'docker run -d -p 12101:12101 --name rhasspy '\n",
    "        '--restart unless-stopped '\n",
    "        f'-v \"{Loc.data_folder/\"rhasspy/profiles:/profiles\"}\" '\n",
    "        '-v \"/etc/localtime:/etc/localtime:ro\" '\n",
    "        #'--device /dev/snd:/dev/snd '\n",
    "        'rhasspy/rhasspy '\n",
    "        '--user-profiles /profiles '\n",
    "        '--profile en'\n",
    "    )\n",
    "\n",
    "#run_rhasspy()"
   ]
  },
  {
   "cell_type": "markdown",
   "id": "edd0d82f",
   "metadata": {},
   "source": [
    "This will download everything that is needed.\n",
    "\n",
    "You only need to do it once, as Rhasspy adds itself to the docker startup and starts atomatically when the system boots (or, in Windows, when Docker starts).\n",
    "\n",
    "The command _will not_ connect Rhasspy to your microphone or speakers, as we are not intended to use this functionality right now.\n",
    "\n",
    "You can now open Rhasspy and see what's there. You won't need to configure it manually, as in the following cells we'll configure Rhasspy via api."
   ]
  },
  {
   "cell_type": "code",
   "execution_count": 1,
   "id": "3c36bcf7",
   "metadata": {},
   "outputs": [
    {
     "data": {
      "text/html": [
       "<a href=\"http://127.0.0.1:12101\" target=\"_blank\">Open Rhasspy</a>"
      ],
      "text/plain": [
       "<IPython.core.display.HTML object>"
      ]
     },
     "execution_count": 1,
     "metadata": {},
     "output_type": "execute_result"
    }
   ],
   "source": [
    "from IPython.display import HTML\n",
    "\n",
    "ADDRESS = 'http://127.0.0.1:12101'\n",
    "\n",
    "HTML(f'<a href=\"{ADDRESS}\" target=\"_blank\">Open Rhasspy</a>')"
   ]
  },
  {
   "cell_type": "markdown",
   "id": "28138a15-0489-4ebc-a1b5-3af6b62d7bfd",
   "metadata": {},
   "source": [
    "Open the link, set \"Kaldi\" for \"Speech-to-text\" and \"Fsticuffs\" for \"Intent recognition\". Save and restart, then click \"Download\" on the top of the page. This will configure Rhasspy for the functionality we need.\n",
    "\n",
    "It is sure possible to achieve programmatically via API, but I failed to do it fast and decided not to dive into this topic."
   ]
  },
  {
   "cell_type": "markdown",
   "id": "bf85d4c9-cf01-4a26-ba39-6cd674d429ae",
   "metadata": {},
   "source": [
    "Now let's try Rhasspy in action. First, let's reproduce steps from the previous notebooks and create and audio file."
   ]
  },
  {
   "cell_type": "code",
   "execution_count": 2,
   "id": "ba643b81-20ed-4eec-8133-2e5149094ae4",
   "metadata": {},
   "outputs": [
    {
     "ename": "NameError",
     "evalue": "name 'Loc' is not defined",
     "output_type": "error",
     "traceback": [
      "\u001b[1;31m---------------------------------------------------------------------------\u001b[0m",
      "\u001b[1;31mNameError\u001b[0m                                 Traceback (most recent call last)",
      "Cell \u001b[1;32mIn[2], line 12\u001b[0m\n\u001b[0;32m      2\u001b[0m \u001b[38;5;28;01mfrom\u001b[39;00m \u001b[38;5;21;01mipywidgets\u001b[39;00m \u001b[38;5;28;01mimport\u001b[39;00m Audio\n\u001b[0;32m      4\u001b[0m template \u001b[38;5;241m=\u001b[39m Template(\n\u001b[0;32m      5\u001b[0m     \u001b[38;5;124m'\u001b[39m\u001b[38;5;124mIt is \u001b[39m\u001b[38;5;132;01m{hours}\u001b[39;00m\u001b[38;5;124m \u001b[39m\u001b[38;5;132;01m{hours_word}\u001b[39;00m\u001b[38;5;124m and \u001b[39m\u001b[38;5;132;01m{minutes}\u001b[39;00m\u001b[38;5;124m \u001b[39m\u001b[38;5;132;01m{minutes_word}\u001b[39;00m\u001b[38;5;124m'\u001b[39m,\n\u001b[0;32m      6\u001b[0m     hours \u001b[38;5;241m=\u001b[39m CardinalDub(\u001b[38;5;241m0\u001b[39m, \u001b[38;5;241m24\u001b[39m),\n\u001b[1;32m   (...)\u001b[0m\n\u001b[0;32m      9\u001b[0m     minutes_word \u001b[38;5;241m=\u001b[39m PluralAgreement(\u001b[38;5;124m'\u001b[39m\u001b[38;5;124mminutes\u001b[39m\u001b[38;5;124m'\u001b[39m, \u001b[38;5;124m'\u001b[39m\u001b[38;5;124mminute\u001b[39m\u001b[38;5;124m'\u001b[39m, \u001b[38;5;124m'\u001b[39m\u001b[38;5;124mminutes\u001b[39m\u001b[38;5;124m'\u001b[39m)\n\u001b[0;32m     10\u001b[0m )\u001b[38;5;241m.\u001b[39mwith_name(\u001b[38;5;124m'\u001b[39m\u001b[38;5;124mIntent\u001b[39m\u001b[38;5;124m'\u001b[39m)\n\u001b[1;32m---> 12\u001b[0m pack \u001b[38;5;241m=\u001b[39m DubbingPack\u001b[38;5;241m.\u001b[39mfrom_zip(\u001b[43mLoc\u001b[49m\u001b[38;5;241m.\u001b[39mtemp_folder\u001b[38;5;241m/\u001b[39m\u001b[38;5;124m'\u001b[39m\u001b[38;5;124mdemos/dubbing/sample_pack\u001b[39m\u001b[38;5;124m'\u001b[39m, \u001b[38;5;124m'\u001b[39m\u001b[38;5;124mfiles/sample_dubbing.zip\u001b[39m\u001b[38;5;124m'\u001b[39m)\n\u001b[0;32m     13\u001b[0m dubber \u001b[38;5;241m=\u001b[39m pack\u001b[38;5;241m.\u001b[39mcreate_dubber()\n\u001b[0;32m     15\u001b[0m s \u001b[38;5;241m=\u001b[39m template\u001b[38;5;241m.\u001b[39mto_str(\u001b[38;5;28mdict\u001b[39m(hours\u001b[38;5;241m=\u001b[39m\u001b[38;5;241m15\u001b[39m, minutes\u001b[38;5;241m=\u001b[39m\u001b[38;5;241m32\u001b[39m))\n",
      "\u001b[1;31mNameError\u001b[0m: name 'Loc' is not defined"
     ]
    }
   ],
   "source": [
    "from kaia.persona.dub.languages.en import Template, CardinalDub, PluralAgreement, DubbingPack\n",
    "from ipywidgets import Audio\n",
    "\n",
    "template = Template(\n",
    "    'It is {hours} {hours_word} and {minutes} {minutes_word}',\n",
    "    hours = CardinalDub(0, 24),\n",
    "    hours_word = PluralAgreement('hours', 'hour', 'hours'),\n",
    "    minutes = CardinalDub(0, 60),\n",
    "    minutes_word = PluralAgreement('minutes', 'minute', 'minutes')\n",
    ").with_name('Intent')\n",
    "\n",
    "pack = DubbingPack.from_zip(Loc.temp_folder/'demos/dubbing/sample_pack', 'files/sample_dubbing.zip')\n",
    "dubber = pack.create_dubber()\n",
    "\n",
    "s = template.to_str(dict(hours=15, minutes=32))\n",
    "print(s)\n",
    "fname = dubber.dub_string(s, template)\n",
    "Audio.from_file(fname, autoplay = False)"
   ]
  },
  {
   "cell_type": "markdown",
   "id": "5966a931-6a66-49ee-a58e-bed4db7af185",
   "metadata": {},
   "source": [
    "Run these cells to configure Rhasspy:"
   ]
  },
  {
   "cell_type": "code",
   "execution_count": 9,
   "id": "a7c2e92b-dc2a-4360-98b4-b0348732eba9",
   "metadata": {},
   "outputs": [
    {
     "data": {
      "text/plain": [
       "'It is fifteen hours and thirty two minutes'"
      ]
     },
     "execution_count": 9,
     "metadata": {},
     "output_type": "execute_result"
    }
   ],
   "source": [
    "from kaia.persona.dub.languages.en import RhasspyAPI\n",
    "\n",
    "api = RhasspyAPI.create(ADDRESS, [template])\n",
    "api.train()\n",
    "api.recognize(fname).to_str()"
   ]
  },
  {
   "cell_type": "markdown",
   "id": "41e2307d-8f4f-437c-a62b-217704b47341",
   "metadata": {},
   "source": [
    "So, it recognizes the file correctly."
   ]
  },
  {
   "cell_type": "markdown",
   "id": "34eb4b4d-b41e-4a3b-ad76-8a458ff8a546",
   "metadata": {},
   "source": [
    "Then, we can use the test on the larger scale. TestingTools generate lots of variants for the template with different values."
   ]
  },
  {
   "cell_type": "code",
   "execution_count": 10,
   "id": "5189b44b-2a47-48e2-9f27-c1a9c62cce80",
   "metadata": {},
   "outputs": [
    {
     "data": {
      "text/plain": [
       "Sample(intent_obj=<kaia.persona.dub.core.templates.template.Template object at 0x7f6d78ad7f70>, s='It is twenty four hours and twenty seven minutes', true_intent='Intent', true_value={'minutes': 27, 'hours': 24}, recognition_obj=None, parsed_intent=None, parsed_value=None, failure=False, match_intent=False, match_keys=False, match_values=False, match=False)"
      ]
     },
     "execution_count": 10,
     "metadata": {},
     "output_type": "execute_result"
    }
   ],
   "source": [
    "from kaia.persona.dub.languages.en import TestingTools\n",
    "\n",
    "test = TestingTools([template], 100)\n",
    "test.samples[0]"
   ]
  },
  {
   "cell_type": "markdown",
   "id": "cfec84aa-9c35-4819-9f55-7c5e515daac1",
   "metadata": {},
   "source": [
    "Now, we can create our API around Rhasspy:"
   ]
  },
  {
   "cell_type": "markdown",
   "id": "8701d329-fddc-4c5d-b247-bfaa366a1f9c",
   "metadata": {},
   "source": [
    "Rhasspy can only recognize the sentences is was trained for. So, to run tests, we need to first train Rhasspy on our sentence. After this, we will run tests for every of our 3 versions of dubbing:"
   ]
  },
  {
   "cell_type": "code",
   "execution_count": 11,
   "id": "9bd80b1c-a54e-49ca-874a-1711439e5ada",
   "metadata": {},
   "outputs": [],
   "source": [
    "import pandas as pd\n",
    "\n",
    "def make_test():\n",
    "    dfs = []\n",
    "    for i in range(3):\n",
    "        df = TestingTools.samples_to_df(test.test_voice(pack.create_dubber(option_index=i), api))\n",
    "        df['option_index'] = i\n",
    "        dfs.append(df)\n",
    "\n",
    "    df = pd.concat(dfs)\n",
    "    df.to_parquet('files/test_on_sample.parquet')\n",
    "\n",
    "#make_test()"
   ]
  },
  {
   "cell_type": "code",
   "execution_count": 12,
   "id": "eec20c97-75cf-4a3e-b757-ad4bae99246f",
   "metadata": {},
   "outputs": [
    {
     "data": {
      "text/html": [
       "<div>\n",
       "<style scoped>\n",
       "    .dataframe tbody tr th:only-of-type {\n",
       "        vertical-align: middle;\n",
       "    }\n",
       "\n",
       "    .dataframe tbody tr th {\n",
       "        vertical-align: top;\n",
       "    }\n",
       "\n",
       "    .dataframe thead th {\n",
       "        text-align: right;\n",
       "    }\n",
       "</style>\n",
       "<table border=\"1\" class=\"dataframe\">\n",
       "  <thead>\n",
       "    <tr style=\"text-align: right;\">\n",
       "      <th></th>\n",
       "      <th>match</th>\n",
       "      <th>match_values</th>\n",
       "      <th>match_keys</th>\n",
       "      <th>match_intent</th>\n",
       "    </tr>\n",
       "    <tr>\n",
       "      <th>option_index</th>\n",
       "      <th></th>\n",
       "      <th></th>\n",
       "      <th></th>\n",
       "      <th></th>\n",
       "    </tr>\n",
       "  </thead>\n",
       "  <tbody>\n",
       "    <tr>\n",
       "      <th>0</th>\n",
       "      <td>0.979167</td>\n",
       "      <td>0.979167</td>\n",
       "      <td>1.0</td>\n",
       "      <td>1.0</td>\n",
       "    </tr>\n",
       "    <tr>\n",
       "      <th>1</th>\n",
       "      <td>1.000000</td>\n",
       "      <td>1.000000</td>\n",
       "      <td>1.0</td>\n",
       "      <td>1.0</td>\n",
       "    </tr>\n",
       "    <tr>\n",
       "      <th>2</th>\n",
       "      <td>0.979167</td>\n",
       "      <td>0.979167</td>\n",
       "      <td>1.0</td>\n",
       "      <td>1.0</td>\n",
       "    </tr>\n",
       "  </tbody>\n",
       "</table>\n",
       "</div>"
      ],
      "text/plain": [
       "                 match  match_values  match_keys  match_intent\n",
       "option_index                                                  \n",
       "0             0.979167      0.979167         1.0           1.0\n",
       "1             1.000000      1.000000         1.0           1.0\n",
       "2             0.979167      0.979167         1.0           1.0"
      ]
     },
     "execution_count": 12,
     "metadata": {},
     "output_type": "execute_result"
    }
   ],
   "source": [
    "df = pd.read_parquet('files/test_on_sample.parquet')\n",
    "df.groupby(['option_index'])[['match','match_values','match_keys','match_intent']].mean()"
   ]
  },
  {
   "cell_type": "markdown",
   "id": "9d17837f-d44b-4e62-b1ab-e6d9311f8b1e",
   "metadata": {},
   "source": [
    "The results are decent. Since there is only one intent, there is no intent misrecognition. This label needs to be tested in other demos."
   ]
  }
 ],
 "metadata": {
  "kernelspec": {
   "display_name": "Python 3 (ipykernel)",
   "language": "python",
   "name": "python3"
  },
  "language_info": {
   "codemirror_mode": {
    "name": "ipython",
    "version": 3
   },
   "file_extension": ".py",
   "mimetype": "text/x-python",
   "name": "python",
   "nbconvert_exporter": "python",
   "pygments_lexer": "ipython3",
   "version": "3.8.16"
  }
 },
 "nbformat": 4,
 "nbformat_minor": 5
}
