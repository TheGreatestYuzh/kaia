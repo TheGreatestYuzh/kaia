{
 "cells": [
  {
   "cell_type": "markdown",
   "id": "45dc2328-0852-4407-922b-f8bed383fb1c",
   "metadata": {},
   "source": [
    "Let's first review how the skills are written"
   ]
  },
  {
   "cell_type": "code",
   "execution_count": 1,
   "id": "8107466e-637f-4508-b102-81fbda8cd4ba",
   "metadata": {},
   "outputs": [
    {
     "data": {
      "text/html": [
       "<h3>time.py</h3><br><br><style>pre { line-height: 125%; }\n",
       "td.linenos .normal { color: inherit; background-color: transparent; padding-left: 5px; padding-right: 5px; }\n",
       "span.linenos { color: inherit; background-color: transparent; padding-left: 5px; padding-right: 5px; }\n",
       "td.linenos .special { color: #000000; background-color: #ffffc0; padding-left: 5px; padding-right: 5px; }\n",
       "span.linenos.special { color: #000000; background-color: #ffffc0; padding-left: 5px; padding-right: 5px; }\n",
       ".hll { background-color: #ffffcc }\n",
       ".c { color: #3D7B7B; font-style: italic } /* Comment */\n",
       ".err { border: 1px solid #FF0000 } /* Error */\n",
       ".k { color: #008000; font-weight: bold } /* Keyword */\n",
       ".o { color: #666666 } /* Operator */\n",
       ".ch { color: #3D7B7B; font-style: italic } /* Comment.Hashbang */\n",
       ".cm { color: #3D7B7B; font-style: italic } /* Comment.Multiline */\n",
       ".cp { color: #9C6500 } /* Comment.Preproc */\n",
       ".cpf { color: #3D7B7B; font-style: italic } /* Comment.PreprocFile */\n",
       ".c1 { color: #3D7B7B; font-style: italic } /* Comment.Single */\n",
       ".cs { color: #3D7B7B; font-style: italic } /* Comment.Special */\n",
       ".gd { color: #A00000 } /* Generic.Deleted */\n",
       ".ge { font-style: italic } /* Generic.Emph */\n",
       ".gr { color: #E40000 } /* Generic.Error */\n",
       ".gh { color: #000080; font-weight: bold } /* Generic.Heading */\n",
       ".gi { color: #008400 } /* Generic.Inserted */\n",
       ".go { color: #717171 } /* Generic.Output */\n",
       ".gp { color: #000080; font-weight: bold } /* Generic.Prompt */\n",
       ".gs { font-weight: bold } /* Generic.Strong */\n",
       ".gu { color: #800080; font-weight: bold } /* Generic.Subheading */\n",
       ".gt { color: #0044DD } /* Generic.Traceback */\n",
       ".kc { color: #008000; font-weight: bold } /* Keyword.Constant */\n",
       ".kd { color: #008000; font-weight: bold } /* Keyword.Declaration */\n",
       ".kn { color: #008000; font-weight: bold } /* Keyword.Namespace */\n",
       ".kp { color: #008000 } /* Keyword.Pseudo */\n",
       ".kr { color: #008000; font-weight: bold } /* Keyword.Reserved */\n",
       ".kt { color: #B00040 } /* Keyword.Type */\n",
       ".m { color: #666666 } /* Literal.Number */\n",
       ".s { color: #BA2121 } /* Literal.String */\n",
       ".na { color: #687822 } /* Name.Attribute */\n",
       ".nb { color: #008000 } /* Name.Builtin */\n",
       ".nc { color: #0000FF; font-weight: bold } /* Name.Class */\n",
       ".no { color: #880000 } /* Name.Constant */\n",
       ".nd { color: #AA22FF } /* Name.Decorator */\n",
       ".ni { color: #717171; font-weight: bold } /* Name.Entity */\n",
       ".ne { color: #CB3F38; font-weight: bold } /* Name.Exception */\n",
       ".nf { color: #0000FF } /* Name.Function */\n",
       ".nl { color: #767600 } /* Name.Label */\n",
       ".nn { color: #0000FF; font-weight: bold } /* Name.Namespace */\n",
       ".nt { color: #008000; font-weight: bold } /* Name.Tag */\n",
       ".nv { color: #19177C } /* Name.Variable */\n",
       ".ow { color: #AA22FF; font-weight: bold } /* Operator.Word */\n",
       ".w { color: #bbbbbb } /* Text.Whitespace */\n",
       ".mb { color: #666666 } /* Literal.Number.Bin */\n",
       ".mf { color: #666666 } /* Literal.Number.Float */\n",
       ".mh { color: #666666 } /* Literal.Number.Hex */\n",
       ".mi { color: #666666 } /* Literal.Number.Integer */\n",
       ".mo { color: #666666 } /* Literal.Number.Oct */\n",
       ".sa { color: #BA2121 } /* Literal.String.Affix */\n",
       ".sb { color: #BA2121 } /* Literal.String.Backtick */\n",
       ".sc { color: #BA2121 } /* Literal.String.Char */\n",
       ".dl { color: #BA2121 } /* Literal.String.Delimiter */\n",
       ".sd { color: #BA2121; font-style: italic } /* Literal.String.Doc */\n",
       ".s2 { color: #BA2121 } /* Literal.String.Double */\n",
       ".se { color: #AA5D1F; font-weight: bold } /* Literal.String.Escape */\n",
       ".sh { color: #BA2121 } /* Literal.String.Heredoc */\n",
       ".si { color: #A45A77; font-weight: bold } /* Literal.String.Interpol */\n",
       ".sx { color: #008000 } /* Literal.String.Other */\n",
       ".sr { color: #A45A77 } /* Literal.String.Regex */\n",
       ".s1 { color: #BA2121 } /* Literal.String.Single */\n",
       ".ss { color: #19177C } /* Literal.String.Symbol */\n",
       ".bp { color: #008000 } /* Name.Builtin.Pseudo */\n",
       ".fm { color: #0000FF } /* Name.Function.Magic */\n",
       ".vc { color: #19177C } /* Name.Variable.Class */\n",
       ".vg { color: #19177C } /* Name.Variable.Global */\n",
       ".vi { color: #19177C } /* Name.Variable.Instance */\n",
       ".vm { color: #19177C } /* Name.Variable.Magic */\n",
       ".il { color: #666666 } /* Literal.Number.Integer.Long */</style><div class=\"highlight\"><pre><span></span><span class=\"kn\">from</span> <span class=\"nn\">..dub.languages.en</span> <span class=\"kn\">import</span> <span class=\"o\">*</span>\n",
       "<span class=\"kn\">from</span> <span class=\"nn\">..dialogue</span> <span class=\"kn\">import</span> <span class=\"n\">AssistantSkill</span>\n",
       "<span class=\"kn\">from</span> <span class=\"nn\">datetime</span> <span class=\"kn\">import</span> <span class=\"n\">datetime</span>\n",
       "\n",
       "<span class=\"k\">class</span> <span class=\"nc\">TimeIntents</span><span class=\"p\">(</span><span class=\"n\">TemplatesCollection</span><span class=\"p\">):</span>\n",
       "    <span class=\"n\">question</span> <span class=\"o\">=</span> <span class=\"n\">Template</span><span class=\"p\">(</span>\n",
       "        <span class=\"s1\">&#39;What time is it?&#39;</span><span class=\"p\">,</span>\n",
       "        <span class=\"s1\">&#39;What is the time?&#39;</span>\n",
       "    <span class=\"p\">)</span>\n",
       "\n",
       "\n",
       "<span class=\"k\">class</span> <span class=\"nc\">TimeReplies</span><span class=\"p\">(</span><span class=\"n\">TemplatesCollection</span><span class=\"p\">):</span>\n",
       "    <span class=\"n\">answer</span> <span class=\"o\">=</span> <span class=\"n\">Template</span><span class=\"p\">(</span>\n",
       "        <span class=\"s1\">&#39;It is </span><span class=\"si\">{hours}</span><span class=\"s1\"> </span><span class=\"si\">{hours_word}</span><span class=\"s1\"> and </span><span class=\"si\">{minutes}</span><span class=\"s1\"> </span><span class=\"si\">{minutes_word}</span><span class=\"s1\">.&#39;</span><span class=\"p\">,</span>\n",
       "        <span class=\"n\">hours</span> <span class=\"o\">=</span> <span class=\"n\">CardinalDub</span><span class=\"p\">(</span><span class=\"mi\">0</span><span class=\"p\">,</span> <span class=\"mi\">24</span><span class=\"p\">),</span>\n",
       "        <span class=\"n\">hours_word</span> <span class=\"o\">=</span> <span class=\"n\">PluralAgreement</span><span class=\"p\">(</span><span class=\"s1\">&#39;hours&#39;</span><span class=\"p\">,</span> <span class=\"s1\">&#39;hour&#39;</span><span class=\"p\">,</span> <span class=\"s1\">&#39;hours&#39;</span><span class=\"p\">),</span>\n",
       "        <span class=\"n\">minutes</span> <span class=\"o\">=</span> <span class=\"n\">CardinalDub</span><span class=\"p\">(</span><span class=\"mi\">0</span><span class=\"p\">,</span> <span class=\"mi\">60</span><span class=\"p\">),</span>\n",
       "        <span class=\"n\">minutes_word</span> <span class=\"o\">=</span> <span class=\"n\">PluralAgreement</span><span class=\"p\">(</span><span class=\"s1\">&#39;minutes&#39;</span><span class=\"p\">,</span> <span class=\"s1\">&#39;minute&#39;</span><span class=\"p\">,</span> <span class=\"s1\">&#39;minutes&#39;</span><span class=\"p\">)</span>\n",
       "    <span class=\"p\">)</span>\n",
       "\n",
       "<span class=\"k\">class</span> <span class=\"nc\">TimeSkill</span><span class=\"p\">(</span><span class=\"n\">AssistantSkill</span><span class=\"p\">):</span>\n",
       "    <span class=\"k\">def</span> <span class=\"fm\">__init__</span><span class=\"p\">(</span><span class=\"bp\">self</span><span class=\"p\">,</span> <span class=\"n\">datetime_factory</span><span class=\"p\">:</span> <span class=\"n\">Callable</span><span class=\"p\">[[],</span> <span class=\"n\">datetime</span><span class=\"p\">]</span> <span class=\"o\">=</span> <span class=\"n\">datetime</span><span class=\"o\">.</span><span class=\"n\">now</span><span class=\"p\">):</span>\n",
       "        <span class=\"bp\">self</span><span class=\"o\">.</span><span class=\"n\">datetime_factory</span> <span class=\"o\">=</span> <span class=\"n\">datetime_factory</span>\n",
       "        <span class=\"nb\">super</span><span class=\"p\">()</span><span class=\"o\">.</span><span class=\"fm\">__init__</span><span class=\"p\">(</span>\n",
       "            <span class=\"bp\">self</span><span class=\"o\">.</span><span class=\"n\">run</span><span class=\"p\">,</span>\n",
       "            <span class=\"n\">TimeIntents</span><span class=\"p\">,</span>\n",
       "            <span class=\"n\">TimeReplies</span><span class=\"p\">,</span>\n",
       "            <span class=\"p\">[</span><span class=\"n\">TimeIntents</span><span class=\"o\">.</span><span class=\"n\">question</span><span class=\"p\">],</span>\n",
       "            <span class=\"p\">{</span><span class=\"s1\">&#39;/time&#39;</span><span class=\"p\">:</span> <span class=\"n\">TimeIntents</span><span class=\"o\">.</span><span class=\"n\">question</span><span class=\"o\">.</span><span class=\"n\">utter</span><span class=\"p\">()},</span>\n",
       "        <span class=\"p\">)</span>\n",
       "\n",
       "    <span class=\"k\">def</span> <span class=\"nf\">run</span><span class=\"p\">(</span><span class=\"bp\">self</span><span class=\"p\">):</span>\n",
       "        <span class=\"n\">time</span> <span class=\"o\">=</span> <span class=\"bp\">self</span><span class=\"o\">.</span><span class=\"n\">datetime_factory</span><span class=\"p\">()</span>\n",
       "        <span class=\"k\">yield</span> <span class=\"n\">TimeReplies</span><span class=\"o\">.</span><span class=\"n\">answer</span><span class=\"o\">.</span><span class=\"n\">utter</span><span class=\"p\">(</span><span class=\"n\">hours</span> <span class=\"o\">=</span> <span class=\"n\">time</span><span class=\"o\">.</span><span class=\"n\">hour</span><span class=\"p\">,</span> <span class=\"n\">minutes</span> <span class=\"o\">=</span> <span class=\"n\">time</span><span class=\"o\">.</span><span class=\"n\">minute</span><span class=\"p\">)</span>\n",
       "</pre></div>\n"
      ],
      "text/plain": [
       "<IPython.core.display.HTML object>"
      ]
     },
     "execution_count": 1,
     "metadata": {},
     "output_type": "execute_result"
    }
   ],
   "source": [
    "from kaia.infra.demos import py_to_notebook\n",
    "from pathlib import Path\n",
    "\n",
    "py_to_notebook([Path('../../kaia/persona/sandbox/time.py')])"
   ]
  },
  {
   "cell_type": "markdown",
   "id": "228ae39d-ab40-4073-98d8-b3d1f45baec2",
   "metadata": {},
   "source": [
    "Assistant knows all the intents and replies that it's skills are using. So, first we need to dub the replies. We will only compute the words that are different from the intent pack we already computed, because, e.g., numbers are alreaddy dubbed."
   ]
  },
  {
   "cell_type": "code",
   "execution_count": 2,
   "id": "84934b0c-712f-424a-9963-85cd257b259a",
   "metadata": {},
   "outputs": [],
   "source": [
    "from pathlib import Path\n",
    "from kaia.infra import Loc\n",
    "from kaia.persona.dub.core import DubbingPack\n",
    "\n",
    "base_pack_path =  Path('files/intent_dubbing.zip')\n",
    "assistant_pack_path =  Path('files/assistant_dubbing.zip')\n",
    "base_host_path =  Loc.temp_folder/'demos/dubbing/intent_dubbing'\n",
    "assistant_host_path =  Loc.temp_folder/'demos/dubbing/assistant_dubbing'"
   ]
  },
  {
   "cell_type": "markdown",
   "id": "2ff9bdcc-3b9c-4dea-959e-4df65a2c2d02",
   "metadata": {},
   "source": [
    "Now, let's compute fragments:"
   ]
  },
  {
   "cell_type": "code",
   "execution_count": 3,
   "id": "c6c8823d-dc70-46fb-a7ee-dcd49adf3ccf",
   "metadata": {},
   "outputs": [
    {
     "data": {
      "text/plain": [
       "60"
      ]
     },
     "execution_count": 3,
     "metadata": {},
     "output_type": "execute_result"
    }
   ],
   "source": [
    "from kaia.persona.dub.languages.en import get_predefined_dubs, DubbingTaskCreator\n",
    "from kaia.brainbox import BrainBox\n",
    "from kaia.persona.sandbox import create_sandbox_assistant\n",
    "\n",
    "\n",
    "ADDRESS = 'http://192.168.178.50'\n",
    "box = BrainBox()\n",
    "box_api = box.create_api(ADDRESS)\n",
    "\n",
    "ha = create_sandbox_assistant()\n",
    "voice = box.settings.tortoise_tts.test_voice\n",
    "tc = DubbingTaskCreator()\n",
    "sequences = tc.fragment(get_predefined_dubs(), ha.get_replies(), voice)\n",
    "len(sequences)"
   ]
  },
  {
   "cell_type": "markdown",
   "id": "8161382c-789d-4f35-8478-d0bf61c2942e",
   "metadata": {},
   "source": [
    "And filter out the old ones that are already dubbed:"
   ]
  },
  {
   "cell_type": "code",
   "execution_count": 4,
   "id": "5d9cd6ae-d8c9-437b-8077-8041012efaee",
   "metadata": {},
   "outputs": [
    {
     "data": {
      "text/plain": [
       "30"
      ]
     },
     "execution_count": 4,
     "metadata": {},
     "output_type": "execute_result"
    }
   ],
   "source": [
    "base_pack = DubbingPack.from_zip(base_host_path, base_pack_path)\n",
    "new_sequences = tc.get_sequences_missing_from_pack(sequences, base_pack)\n",
    "len(new_sequences)"
   ]
  },
  {
   "cell_type": "code",
   "execution_count": 5,
   "id": "f75c6384-22da-4fc9-bc7e-b87437699397",
   "metadata": {},
   "outputs": [],
   "source": [
    "batch = 'assistant_voicing'\n",
    "\n",
    "def create_tasks():\n",
    "    optimized_sequences = tc.optimize_sequences(new_sequences)\n",
    "    dub_and_cut_tasks = tc.create_dub_and_cut_tasks(optimized_sequences)\n",
    "    bb_tasks = tc.create_tasks(dub_and_cut_tasks,'TortoiseTTS','aligned_dub',batch)\n",
    "    for task in bb_tasks:\n",
    "        box_api.add_task(task)\n",
    "\n",
    "#create_tasks()"
   ]
  },
  {
   "cell_type": "code",
   "execution_count": 6,
   "id": "eace49bc-7e79-49de-b4d5-29712a3b50fd",
   "metadata": {},
   "outputs": [],
   "source": [
    "def download_pack(recode = False):\n",
    "    target_task = [t for t in box_api.get_tasks(batch) if t['back_track'] == 'Dubbing'][-1]\n",
    "    print(target_task['received_timestamp'])\n",
    "    result = box_api.get_result(target_task['id'])\n",
    "    if result is None:\n",
    "        raise ValueError('Not yet ready')\n",
    "    box_api.download(result, assistant_pack_path, True)\n",
    "\n",
    "#download_pack(True)"
   ]
  },
  {
   "cell_type": "markdown",
   "id": "f108e477-20af-4cd1-863e-12fe35cba6a0",
   "metadata": {},
   "source": [
    "Now, we can create the pack from these two files:"
   ]
  },
  {
   "cell_type": "code",
   "execution_count": 7,
   "id": "59dce037-2f3c-4397-90cb-9a955ea1b873",
   "metadata": {},
   "outputs": [],
   "source": [
    "pack = DubbingPack.from_zip(base_host_path, base_pack_path, assistant_pack_path)"
   ]
  },
  {
   "cell_type": "code",
   "execution_count": 8,
   "id": "ac4221ca-d711-4f89-9e71-ad542e47406e",
   "metadata": {},
   "outputs": [
    {
     "data": {
      "application/vnd.jupyter.widget-view+json": {
       "model_id": "53fef1f97527422b9f85fbb6437943d4",
       "version_major": 2,
       "version_minor": 0
      },
      "text/plain": [
       "Audio(value=b'RIFFP+\\x03\\x00WAVEfmt \\x10\\x00\\x00\\x00\\x01\\x00\\x01\\x00\\xc0]\\x00\\x00\\x80\\xbb\\x00\\x00\\x02\\x00\\x10\\…"
      ]
     },
     "execution_count": 8,
     "metadata": {},
     "output_type": "execute_result"
    }
   ],
   "source": [
    "from kaia.persona.sandbox import DateReplies, Weekdays\n",
    "from datetime import date\n",
    "from ipywidgets import Audio\n",
    "\n",
    "template = DateReplies.answer\n",
    "date = date(2023,10,23)\n",
    "value = dict(date=date, weekday=Weekdays(date.weekday()))\n",
    "Audio.from_file(pack.create_dubber().dub(DateReplies.answer.utter(value)), autoplay = False)"
   ]
  },
  {
   "cell_type": "markdown",
   "id": "5ea7a25b-573d-4ef5-be6d-e4b4524eb01f",
   "metadata": {},
   "source": [
    "Now, let's implement chat. To input sounds, we will need a text-to-speech conversion: we will type what we want to say, and TTS will produce sound in the right format. Of course, we could use our own TTS, but it can only create sounds in accordance with patterns. To enable more freedom, "
   ]
  },
  {
   "cell_type": "code",
   "execution_count": 11,
   "id": "f68b051c-93d1-4d7c-9dd0-3e70a90ed842",
   "metadata": {},
   "outputs": [
    {
     "data": {
      "application/vnd.jupyter.widget-view+json": {
       "model_id": "ca4f201c0b174503b1459c3ffe8b2391",
       "version_major": 2,
       "version_minor": 0
      },
      "text/plain": [
       "VBox(children=(HBox(children=(Text(value=''), Button(description='Send', style=ButtonStyle()), Label(value='')…"
      ]
     },
     "execution_count": 11,
     "metadata": {},
     "output_type": "execute_result"
    }
   ],
   "source": [
    "from kaia.eaglesong.core import Automaton\n",
    "from kaia.eaglesong.drivers.ipython import *\n",
    "from kaia.persona.dialogue import UtterancesTranslator\n",
    "from kaia.persona.dub.core import RhasspyAPI, TextToSpeech\n",
    "\n",
    "rhasspy_api = RhasspyAPI.create('http://127.0.0.1:12101', ha.get_intents())\n",
    "rhasspy_api.train()\n",
    "bot = UtterancesTranslator(ha, rhasspy_api, pack.create_dubber())\n",
    "tts = TextToSpeech()\n",
    "\n",
    "interpreter = IPythonInterpreter(Automaton(bot, None), IPythonChatModel())\n",
    "chat = IPythonChatWidget(interpreter, input_preprocessor = tts.dub_to_audio, warm_up_commands=())\n",
    "chat.run()"
   ]
  }
 ],
 "metadata": {
  "kernelspec": {
   "display_name": "Python 3 (ipykernel)",
   "language": "python",
   "name": "python3"
  },
  "language_info": {
   "codemirror_mode": {
    "name": "ipython",
    "version": 3
   },
   "file_extension": ".py",
   "mimetype": "text/x-python",
   "name": "python",
   "nbconvert_exporter": "python",
   "pygments_lexer": "ipython3",
   "version": "3.8.16"
  }
 },
 "nbformat": 4,
 "nbformat_minor": 5
}
