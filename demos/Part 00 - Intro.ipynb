{
 "cells": [
  {
   "cell_type": "markdown",
   "metadata": {},
   "source": [
    "## Getting started\n",
    "\n",
    "This is a Jupyter notebook. It allows you to execute the python code that is written in its _cells_.\n",
    "\n",
    "To execute the code, select a cell and press Ctrl-Enter.\n",
    "\n",
    "The next cell should print `Hello, world!` if everything is OK and the Python is available.\n",
    "\n",
    "It might take awhile the very first time you do this, but should be within 1 minute. \n",
    "\n",
    "If it's not, check for \"Not trusted\" label in the top-right area of the page. If it's present, click on it and ensure it become \"Trusted\"."
   ]
  },
  {
   "cell_type": "code",
   "execution_count": 1,
   "metadata": {},
   "outputs": [
    {
     "name": "stdout",
     "output_type": "stream",
     "text": [
      "Hello world!\n"
     ]
    }
   ],
   "source": [
    "print(\"Hello world!\")"
   ]
  },
  {
   "cell_type": "markdown",
   "metadata": {},
   "source": [
    "The next cell checks if `kaia` was installed correctly. If it doesn't print `Success`, go back to the `readme.md` and repeat the \"Creating environment\" section."
   ]
  },
  {
   "cell_type": "code",
   "execution_count": 2,
   "metadata": {},
   "outputs": [
    {
     "name": "stdout",
     "output_type": "stream",
     "text": [
      "Success!\n"
     ]
    }
   ],
   "source": [
    "from kaia.infra import Loc\n",
    "\n",
    "print('Success!')"
   ]
  },
  {
   "cell_type": "markdown",
   "metadata": {},
   "source": [
    "Now you can browse the notebooks for subprojects. They are as follows.\n",
    "\n",
    "* `eaglesong`: a library that allows to easily define chatflows for Telegram chatbots or voice assistants. The key feature of `eaglesong` is a natural way of how the chatflows are defined: instead of forcing users to manually programming finite automata, it utilizes `yield` contructions to create the automata from easily readable and writable code. The development seems to be finished.\n",
    "\n",
    "* `brainbox`: a web server that hosts other servers (Automatic1111 for Stable Diffusion, Oobabooga for LLAMA, etc), switches them on and off depending on requests in the queue, pre- and postprocess the results. There are also notebooks that help you to install and run all these models (for complete beginners). The development is well-done, but minor updates are planned\n",
    "  \n",
    "  * `brainbox_deciders` is a folder of demos dedicated to setting up various open-source ML solutions on your system and testing them. Basically it contains the executable version of these solutions' installation guides.\n",
    "\n",
    "* `avatar`: a web-server that will host the character and its state, manages the states updates and provides character-associated content, such as voiceovers and images. Calls `brainbox` service underhood, effectively offering a friendly interface to them. Major improvements are planned in the future.\n",
    "\n",
    "* `kaia`: a end-user interfaces to access assistant. Extensively uses `eaglesong` and `avatar`. Major improvements are planned in the future.\n",
    "\n",
    "* `bro`: a library to manage smart home with the focus on automation - instead of voice commands to switch the devices on and off, it relies on sensors and algorithms to decide if the devices should be switched. On a deeper level, provides a handy way to work with temporal variables. In smart devices management, I find this library useful and easy to use, but there are multiple better analogs, including [Home Assistant](https://www.home-assistant.io/), so in this area consider integrating these approaches instead. However, the temporal variables and their management will probably be used in `avatar`. The library is the eldest in the whole project, so major refactoring is planned.\n",
    "\n",
    "The repository also has `zoo` folder, that contains various skills for Telegram chatbots, home assistants and smarthome algorithms. They are not provided with any demos, and they are supposed to serve as the examples of what can be done on top of `kaia` functionality."
   ]
  }
 ],
 "metadata": {
  "kernelspec": {
   "display_name": "Python 3 (ipykernel)",
   "language": "python",
   "name": "python3"
  },
  "language_info": {
   "codemirror_mode": {
    "name": "ipython",
    "version": 3
   },
   "file_extension": ".py",
   "mimetype": "text/x-python",
   "name": "python",
   "nbconvert_exporter": "python",
   "pygments_lexer": "ipython3",
   "version": "3.11.7"
  }
 },
 "nbformat": 4,
 "nbformat_minor": 4
}
