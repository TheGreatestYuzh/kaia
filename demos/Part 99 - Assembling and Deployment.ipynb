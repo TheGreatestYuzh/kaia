{
 "cells": [
  {
   "cell_type": "markdown",
   "id": "dc96e058",
   "metadata": {},
   "source": [
    "Smart Home is essentially a collection of interconnected components, such as Telegram Bots, Gradio Applications, SmartHome device services etc. Many of these services, most importantly Telegram Bots, do not like to be run in thread, so each component will be run with `multiprocess.Process`.\n",
    "\n",
    "The proper way of running it would be to have have components in the different docker containers, interconnected by REST API or something like this. I don't have much competence in this sysop area, so I developed fast-and-dirty python approach. This is extremely raw at the moment and should not be considered as a way we're doing things in the long run.\n",
    "\n",
    "In `kaia.app` namespace, `KaiaApp` is a set of `IKaiaService`, and it runs them in subprocesses. For Gradio, Telegram bot, as well as for the main HTML dashboard, these services are created.\n",
    "\n",
    "Your Smart Home assembly is probably going to be some large factory function that gets together all your defined algorithms and chatbot skills, packages them in `IKaiaService`, then configures `KaiaApp` and runs it. The amount of settings for this smart home is immence, so I believe it's much easier to have in a Python file than design some king of yaml specification. It is not supposed to be configurable by a non-professional anyway.\n",
    "\n",
    "As for deployment, the following setup is tested:\n",
    "\n",
    "* A local machine that connects to ZigBee, Bluetooth, WiFi and other devices. RaspberryPie would probably also suffice as the heavy AI-computations would require a powerful GPU and since its also going to be used for gaming, it's unwise to set up the SmartHome on this machine.\n",
    "* SSH access should be enabled at this machine.\n",
    "* A docker registry. `canister.io` was a fine choice (you can create free private registries there), but it was down for some time so I'm not sure if it works and how well it is supported.\n",
    "\n",
    "in `zoo.infra.simple_deployment` we have a script that:\n",
    "\n",
    "* builds and pushes the docker container\n",
    "* runs via SSH the commands to pull the container and to run it.\n",
    "\n"
   ]
  }
 ],
 "metadata": {
  "kernelspec": {
   "display_name": "Python 3 (ipykernel)",
   "language": "python",
   "name": "python3"
  },
  "language_info": {
   "codemirror_mode": {
    "name": "ipython",
    "version": 3
   },
   "file_extension": ".py",
   "mimetype": "text/x-python",
   "name": "python",
   "nbconvert_exporter": "python",
   "pygments_lexer": "ipython3",
   "version": "3.8.17"
  }
 },
 "nbformat": 4,
 "nbformat_minor": 5
}
