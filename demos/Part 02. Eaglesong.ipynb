{
 "cells": [
  {
   "cell_type": "markdown",
   "id": "4fce7ff1",
   "metadata": {},
   "source": [
    "# Eaglesong\n",
    "\n",
    "In this notebook, we will cover the essentials of building a telegram bots with `eaglesong` library. This library was written in the year 2017 with the main focus on readable and easy-to-modify charflows. Telegram, as well as other messengers, offer the \"per request\" approach: the chatbot is given the incoming message and must produce the result. However, in case of longer conversations, it is easier to code the process from the chatbot's point of view: say this, listen to human, parse the input, say something else. `eaglesong` provides exactly this possibility. \n",
    "\n",
    "`eaglesong` uses the `yield` approach. Some people suggested it can be replaced with `async/await`, keeping the logic of the conversation flow intact. Some people however offered arguments why these approaches, although similar and based on the same design pattern, are not equivalent in Python and hence `async/await` cannot be used in this particular case. Unfortunately, my understanding of `async/await` does not allow me to answer this question with certainty. This notebook and the examples offer a comprehensive list of scenarios of how `eaglesong` is used for Telegram, and therefore a good test base for `async/await` implementation attempts.\n"
   ]
  },
  {
   "cell_type": "markdown",
   "id": "9056b55a",
   "metadata": {},
   "source": [
    "Unfortunately, Telegram bot cannot be run from the notebook. So the runnable examples are in `/demos/eaglesong`. This notebook will demonstrate and explain the scenarios, and run them with the testing utility.\n",
    "\n",
    "Before running the bots from `demos/eaglesong`, you will need:\n",
    "\n",
    "1. Contact `@BotFather` bot on Telegram and register your chatbot. As the result, you will obtain an API key that looks like this: `0000000000:xxxxxxxxxxxxxxxxxxxxxxxxxxxxxxxxxx`\n",
    "2. Create an `environment.env` file in the repository's root. This file is already in `.gitignore`, so don't be afraid to accidentaly push its contents.\n",
    "3. Place `KAIA_TEST_BOT=<YOUR_API_KEY>` in the `environment.env` file.\n",
    "\n",
    "After these actions, the next cell should execute with \"Success\" output and without throwing an error:"
   ]
  },
  {
   "cell_type": "code",
   "execution_count": 1,
   "id": "49bc28f9",
   "metadata": {
    "execution": {
     "iopub.execute_input": "2023-03-24T14:11:14.870575Z",
     "iopub.status.busy": "2023-03-24T14:11:14.869390Z",
     "iopub.status.idle": "2023-03-24T14:11:15.518451Z",
     "shell.execute_reply": "2023-03-24T14:11:15.517792Z"
    }
   },
   "outputs": [
    {
     "name": "stdout",
     "output_type": "stream",
     "text": [
      "Success\n"
     ]
    }
   ],
   "source": [
    "from kaia.infra import Loc\n",
    "import os \n",
    "\n",
    "assert 'KAIA_TEST_BOT' in os.environ, 'Bot API KEY was not found'\n",
    "print('Success')"
   ]
  },
  {
   "cell_type": "markdown",
   "id": "fdb2582e",
   "metadata": {},
   "source": [
    "## Simplest chatflow\n",
    "\n",
    "Let's start with the simplest chatbot: it greets you and then replies your messages back to you."
   ]
  },
  {
   "cell_type": "code",
   "execution_count": 2,
   "id": "03120c33",
   "metadata": {
    "execution": {
     "iopub.execute_input": "2023-03-24T14:11:15.521154Z",
     "iopub.status.busy": "2023-03-24T14:11:15.520665Z",
     "iopub.status.idle": "2023-03-24T14:11:15.676809Z",
     "shell.execute_reply": "2023-03-24T14:11:15.676187Z"
    }
   },
   "outputs": [],
   "source": [
    "from typing import *\n",
    "from kaia.eaglesong.telegram import TgCommand, TgUpdate\n",
    "from kaia.eaglesong.arch import  Listen\n",
    "\n",
    "def echo(context: Callable[[], TgUpdate]):\n",
    "    yield TgCommand.mock().send_message(\n",
    "        chat_id = context().chat_id,\n",
    "        text=f'Hi {context().update.message.from_user.name}! Say anything and I will repeat.'\n",
    "    )\n",
    "    \n",
    "    while True:\n",
    "        yield Listen()\n",
    "        input_text = context().update.message.text\n",
    "        yield TgCommand.mock().send_message(context().chat_id, input_text)"
   ]
  },
  {
   "cell_type": "markdown",
   "id": "b0ce0714",
   "metadata": {},
   "source": [
    "The chatbot is defined by a single function, that takes the context. The `context` is used to retrieve the message that was sent to you at the time. Since this function covers the entire process of communication, `context()` will return different messages at the different lines of code.\n",
    "\n",
    "To say something, you `yield` a command, for instance, a telegram command `TgCommand`. This is essentially the instruction to invoke a method with a specified name from the `bot` with the passed parameters. You may of course create it manually:"
   ]
  },
  {
   "cell_type": "code",
   "execution_count": 3,
   "id": "c9359a87",
   "metadata": {
    "execution": {
     "iopub.execute_input": "2023-03-24T14:11:15.679134Z",
     "iopub.status.busy": "2023-03-24T14:11:15.678895Z",
     "iopub.status.idle": "2023-03-24T14:11:15.685305Z",
     "shell.execute_reply": "2023-03-24T14:11:15.684604Z"
    }
   },
   "outputs": [
    {
     "name": "stdout",
     "output_type": "stream",
     "text": [
      "<kaia.eaglesong.telegram.tg_command.TgCommand object at 0x7f03ab17a340>\n"
     ]
    },
    {
     "data": {
      "text/plain": [
       "{'bot_method': 'send_message',\n",
       " 'args': (0, 'test'),\n",
       " 'kwargs': {},\n",
       " '_ignore_errors': False}"
      ]
     },
     "execution_count": 3,
     "metadata": {},
     "output_type": "execute_result"
    }
   ],
   "source": [
    "c = TgCommand('send_message', 0, 'test')\n",
    "print(c)\n",
    "c.__dict__"
   ]
  },
  {
   "cell_type": "markdown",
   "id": "c6195e45",
   "metadata": {},
   "source": [
    "But it's easier to do with `TgCommand.mock()`:"
   ]
  },
  {
   "cell_type": "code",
   "execution_count": 4,
   "id": "69b5ee51",
   "metadata": {
    "execution": {
     "iopub.execute_input": "2023-03-24T14:11:15.687670Z",
     "iopub.status.busy": "2023-03-24T14:11:15.687410Z",
     "iopub.status.idle": "2023-03-24T14:11:15.692557Z",
     "shell.execute_reply": "2023-03-24T14:11:15.691890Z"
    }
   },
   "outputs": [
    {
     "name": "stdout",
     "output_type": "stream",
     "text": [
      "<kaia.eaglesong.telegram.tg_command.TgCommand object at 0x7f03ab17a1f0>\n"
     ]
    },
    {
     "data": {
      "text/plain": [
       "{'bot_method': 'send_message',\n",
       " 'args': (0, 'test'),\n",
       " 'kwargs': {},\n",
       " '_ignore_errors': False}"
      ]
     },
     "execution_count": 4,
     "metadata": {},
     "output_type": "execute_result"
    }
   ],
   "source": [
    "c = TgCommand.mock().send_message(0, 'test')\n",
    "print(c)\n",
    "c.__dict__"
   ]
  },
  {
   "cell_type": "markdown",
   "id": "7fc89c58",
   "metadata": {},
   "source": [
    "`mock()` method returns a factory that creates `TgCommand` but _pretends_ to return a `Bot`. So your IDE is tricked to show you a documentation to all telegram bot's methods (press Shift-Tab to access hints in Jupyter notebooks):"
   ]
  },
  {
   "cell_type": "code",
   "execution_count": 5,
   "id": "7fd4e276",
   "metadata": {
    "execution": {
     "iopub.execute_input": "2023-03-24T14:11:15.694758Z",
     "iopub.status.busy": "2023-03-24T14:11:15.694555Z",
     "iopub.status.idle": "2023-03-24T14:11:15.699954Z",
     "shell.execute_reply": "2023-03-24T14:11:15.699247Z"
    }
   },
   "outputs": [
    {
     "data": {
      "image/png": "[encoded data removed]",
      "text/plain": [
       "<IPython.core.display.Image object>"
      ]
     },
     "execution_count": 5,
     "metadata": {},
     "output_type": "execute_result"
    }
   ],
   "source": [
    "from IPython.display import Image\n",
    "\n",
    "Image('files/mock_hints.png')"
   ]
  },
  {
   "cell_type": "markdown",
   "id": "a0fbbe49",
   "metadata": {},
   "source": [
    "The rest of the function is inside `while`: bot yields a `Listen` command, indicating that it stopped sending messages and now is waiting for the user's input. So, the method is \"stopped\" at this moment (how exactly `eaglesong` processes this is beyond this demo, the important thing is that it works). After the user has sent a message to the bot, the method is \"resumed\" directly after `yield Listen()` line, and `context()` will return the recent user's message at this point. Then, the bot repeats the message's text."
   ]
  },
  {
   "cell_type": "markdown",
   "id": "cca052ca",
   "metadata": {},
   "source": [
    "### Testing scenarios\n",
    "\n",
    "As mentioned, we cannot run `echo` as the Telegram bot from the notebook due to technical reasons. However, we can run it in the testbed. As the input, we will provide it with the same messages, as Telegram would send. They are pretty complicated, so we use a class designed to create some of the simplest messages:"
   ]
  },
  {
   "cell_type": "code",
   "execution_count": 6,
   "id": "b5df915a",
   "metadata": {
    "execution": {
     "iopub.execute_input": "2023-03-24T14:11:15.702737Z",
     "iopub.status.busy": "2023-03-24T14:11:15.702484Z",
     "iopub.status.idle": "2023-03-24T14:11:15.709550Z",
     "shell.execute_reply": "2023-03-24T14:11:15.708945Z"
    }
   },
   "outputs": [
    {
     "data": {
      "text/plain": [
       "{'chat_id': 100,\n",
       " 'type': <Type.Text: 1>,\n",
       " 'update': Update(message=Message(channel_chat_created=False, chat=Chat(id=100, type=<ChatType.PRIVATE>), date=datetime.datetime(2023, 3, 24, 15, 11, 15, 704194), delete_chat_photo=False, from_user=User(first_name='me', id=1, is_bot=False), group_chat_created=False, message_id=2, supergroup_chat_created=False, text='Hi'), update_id=2),\n",
       " 'context': None,\n",
       " 'last_return': None,\n",
       " 'is_continuation': False}"
      ]
     },
     "execution_count": 6,
     "metadata": {},
     "output_type": "execute_result"
    }
   ],
   "source": [
    "from kaia.eaglesong.telegram import TelegramTestProvider\n",
    "\n",
    "\n",
    "tp = TelegramTestProvider(chat_id=100, username='me')\n",
    "tp.text('Hi').__dict__"
   ]
  },
  {
   "cell_type": "markdown",
   "id": "e349cd38",
   "metadata": {},
   "source": [
    "Now, we can use the scenario to debug the chatflow:"
   ]
  },
  {
   "cell_type": "code",
   "execution_count": 7,
   "id": "1edb41bc",
   "metadata": {
    "execution": {
     "iopub.execute_input": "2023-03-24T14:11:15.711752Z",
     "iopub.status.busy": "2023-03-24T14:11:15.711457Z",
     "iopub.status.idle": "2023-03-24T14:11:15.716773Z",
     "shell.execute_reply": "2023-03-24T14:11:15.716081Z"
    }
   },
   "outputs": [
    {
     "name": "stdout",
     "output_type": "stream",
     "text": [
      "> {\"update_id\": 3, \"message\": {\"chat\": {\"id\": 100, \"type\": \"private\"}, \"text\": \"/start\", \"group_chat_created\": false, \"message_id\": 3, \"delete_chat_photo\": false, \"date\": 1679670675, \"supergroup_chat_created\": false, \"channel_chat_created\": false, \"from\": {\"is_bot\": false, \"first_name\": \"me\", \"id\": 1}}}\n",
      "  < send_message(chat_id = 100, text = Hi me! Say anything and I will repeat.)\n",
      "> {\"update_id\": 4, \"message\": {\"chat\": {\"id\": 100, \"type\": \"private\"}, \"text\": \"Hello\", \"group_chat_created\": false, \"message_id\": 4, \"delete_chat_photo\": false, \"date\": 1679670675, \"supergroup_chat_created\": false, \"channel_chat_created\": false, \"from\": {\"is_bot\": false, \"first_name\": \"me\", \"id\": 1}}}\n",
      "  < send_message(100, Hello)\n",
      "> {\"update_id\": 5, \"message\": {\"chat\": {\"id\": 100, \"type\": \"private\"}, \"text\": \"Hi\", \"group_chat_created\": false, \"message_id\": 5, \"delete_chat_photo\": false, \"date\": 1679670675, \"supergroup_chat_created\": false, \"channel_chat_created\": false, \"from\": {\"is_bot\": false, \"first_name\": \"me\", \"id\": 1}}}\n",
      "  < send_message(100, Hi)\n"
     ]
    }
   ],
   "source": [
    "from kaia.eaglesong.arch import Scenario\n",
    "\n",
    "print(TelegramTestProvider.visualize(\n",
    "    Scenario()\n",
    "    .send(tp.start())\n",
    "    .send(tp.text('Hello'))\n",
    "    .send(tp.text('Hi'))\n",
    "    .validate(echo)\n",
    "))"
   ]
  },
  {
   "cell_type": "markdown",
   "id": "66f37fe7",
   "metadata": {},
   "source": [
    "The name `validate` suggests we can actually check if it behaves correctly. If you uncomment the last check, the code with throw an exception."
   ]
  },
  {
   "cell_type": "code",
   "execution_count": 8,
   "id": "8f8da296",
   "metadata": {
    "execution": {
     "iopub.execute_input": "2023-03-24T14:11:15.718996Z",
     "iopub.status.busy": "2023-03-24T14:11:15.718747Z",
     "iopub.status.idle": "2023-03-24T14:11:15.724090Z",
     "shell.execute_reply": "2023-03-24T14:11:15.723399Z"
    }
   },
   "outputs": [],
   "source": [
    "(\n",
    "    Scenario()\n",
    "    .send(tp.start())\n",
    "    .check(lambda z: 'Hi me!' in z.kwargs['text'])\n",
    "    .send(tp.text('Hello'))\n",
    "    .check(lambda z: z.args[1]=='Hello')\n",
    "    .send(tp.text('Hi'))\n",
    "    #.check(lambda z: z.args[1]=='Hi!')\n",
    "    .validate(echo)\n",
    ")\n",
    "pass"
   ]
  },
  {
   "cell_type": "markdown",
   "id": "f915a936",
   "metadata": {},
   "source": [
    "## Questionnaire chatflow\n",
    "\n",
    "The following code demonstrates how to write several questions one after another, and also how one chat flow may invoke another:"
   ]
  },
  {
   "cell_type": "code",
   "execution_count": 9,
   "id": "c5c29ffe",
   "metadata": {
    "execution": {
     "iopub.execute_input": "2023-03-24T14:11:15.726770Z",
     "iopub.status.busy": "2023-03-24T14:11:15.726515Z",
     "iopub.status.idle": "2023-03-24T14:11:15.736612Z",
     "shell.execute_reply": "2023-03-24T14:11:15.736040Z"
    }
   },
   "outputs": [
    {
     "name": "stdout",
     "output_type": "stream",
     "text": [
      "> {\"update_id\": 9, \"message\": {\"chat\": {\"id\": 100, \"type\": \"private\"}, \"text\": \"/start\", \"group_chat_created\": false, \"message_id\": 9, \"delete_chat_photo\": false, \"date\": 1679670675, \"supergroup_chat_created\": false, \"channel_chat_created\": false, \"from\": {\"is_bot\": false, \"first_name\": \"me\", \"id\": 1}}}\n",
      "  < send_message(100, What is your name?)\n",
      "> {\"update_id\": 10, \"message\": {\"chat\": {\"id\": 100, \"type\": \"private\"}, \"text\": \"Adam\", \"group_chat_created\": false, \"message_id\": 10, \"delete_chat_photo\": false, \"date\": 1679670675, \"supergroup_chat_created\": false, \"channel_chat_created\": false, \"from\": {\"is_bot\": false, \"first_name\": \"me\", \"id\": 1}}}\n",
      "  < send_message(100, Where are you from, Adam?)\n",
      "> {\"update_id\": 11, \"message\": {\"chat\": {\"id\": 100, \"type\": \"private\"}, \"text\": \"USA\", \"group_chat_created\": false, \"message_id\": 11, \"delete_chat_photo\": false, \"date\": 1679670675, \"supergroup_chat_created\": false, \"channel_chat_created\": false, \"from\": {\"is_bot\": false, \"first_name\": \"me\", \"id\": 1}}}\n",
      "  < send_message(100, Nice to meet you, Adam from USA!)\n",
      "  < <kaia.eaglesong.arch.automaton.Return object at 0x7f03aa7cf760>\n"
     ]
    }
   ],
   "source": [
    "from kaia.eaglesong.arch import FunctionalSubroutine, Return\n",
    "\n",
    "def questionnaire(c: Callable[[], TgUpdate]):\n",
    "    yield TgCommand.mock().send_message(c().chat_id, 'What is your name?')\n",
    "    yield Listen()\n",
    "    name = c().update.message.text\n",
    "\n",
    "    yield TgCommand.mock().send_message(c().chat_id, f'Where are you from, {name}?')\n",
    "    yield Listen()\n",
    "    country = c().update.message.text\n",
    "\n",
    "    yield Return(name, country)\n",
    "\n",
    "def main(c: Callable[[], TgUpdate]):\n",
    "    subroutine = FunctionalSubroutine(questionnaire)\n",
    "    yield subroutine\n",
    "    name, country = subroutine.returned_value()\n",
    "\n",
    "    yield TgCommand.mock().send_message(c().chat_id, f\"Nice to meet you, {name} from {country}!\")\n",
    "    \n",
    "print(TelegramTestProvider.visualize(\n",
    "    Scenario()\n",
    "    .send(tp.start())\n",
    "    .send(tp.text('Adam'))\n",
    "    .check(lambda z: 'Adam?' in z.args[1])\n",
    "    .send(tp.text('USA'))\n",
    "    .check(\n",
    "        lambda z: 'Adam from USA' in z.args[1],\n",
    "        lambda z: isinstance(z,Return)\n",
    "    )\n",
    "    .validate(main)\n",
    "))"
   ]
  },
  {
   "cell_type": "markdown",
   "id": "35ca7e29",
   "metadata": {},
   "source": [
    "## Authorization chatflow\n",
    "\n",
    "\n",
    "Some chatflows could be reused and are therefore packages as classes (inheriting `Subroutine` class). Basically it's the same chatflow function as we have already seen, but written inside `run` method of the `Subroutine` subclass.\n",
    "\n",
    "These can be used as follows:"
   ]
  },
  {
   "cell_type": "code",
   "execution_count": 10,
   "id": "34669e2d",
   "metadata": {
    "execution": {
     "iopub.execute_input": "2023-03-24T14:11:15.738919Z",
     "iopub.status.busy": "2023-03-24T14:11:15.738723Z",
     "iopub.status.idle": "2023-03-24T14:11:15.743113Z",
     "shell.execute_reply": "2023-03-24T14:11:15.742574Z"
    }
   },
   "outputs": [],
   "source": [
    "from kaia.eaglesong.amenities.authorize import Authorization\n",
    "\n",
    "def main(c):\n",
    "    yield Authorization('1234', 'files/auth')\n",
    "    yield TgCommand.mock().send_message(c().chat_id, 'Hi!')\n",
    "    while True:\n",
    "        yield Listen()\n",
    "        yield TgCommand.mock().send_message(c().chat_id, c().update.message.text)\n",
    "    "
   ]
  },
  {
   "cell_type": "markdown",
   "id": "783c3aab",
   "metadata": {},
   "source": [
    "Authorization accepts a pin (I would suggest using last 4 letters of your bot's API key) and a path where the authorization file will be stored. Let's delete this file and run a happy path:"
   ]
  },
  {
   "cell_type": "code",
   "execution_count": 11,
   "id": "2026185b",
   "metadata": {
    "execution": {
     "iopub.execute_input": "2023-03-24T14:11:15.745954Z",
     "iopub.status.busy": "2023-03-24T14:11:15.745417Z",
     "iopub.status.idle": "2023-03-24T14:11:15.751276Z",
     "shell.execute_reply": "2023-03-24T14:11:15.750591Z"
    }
   },
   "outputs": [
    {
     "name": "stdout",
     "output_type": "stream",
     "text": [
      "> {\"update_id\": 12, \"message\": {\"chat\": {\"id\": 100, \"type\": \"private\"}, \"text\": \"/start\", \"group_chat_created\": false, \"message_id\": 12, \"delete_chat_photo\": false, \"date\": 1679670675, \"supergroup_chat_created\": false, \"channel_chat_created\": false, \"from\": {\"is_bot\": false, \"first_name\": \"me\", \"id\": 1}}}\n",
      "  < send_message(100, Enter pin to authorize)\n",
      "> {\"update_id\": 13, \"message\": {\"chat\": {\"id\": 100, \"type\": \"private\"}, \"text\": \"1234\", \"group_chat_created\": false, \"message_id\": 13, \"delete_chat_photo\": false, \"date\": 1679670675, \"supergroup_chat_created\": false, \"channel_chat_created\": false, \"from\": {\"is_bot\": false, \"first_name\": \"me\", \"id\": 1}}}\n",
      "  < send_message(100, Authorized)\n",
      "  < send_message(100, Hi!)\n",
      "> {\"update_id\": 14, \"message\": {\"chat\": {\"id\": 100, \"type\": \"private\"}, \"text\": \"Hello\", \"group_chat_created\": false, \"message_id\": 14, \"delete_chat_photo\": false, \"date\": 1679670675, \"supergroup_chat_created\": false, \"channel_chat_created\": false, \"from\": {\"is_bot\": false, \"first_name\": \"me\", \"id\": 1}}}\n",
      "  < send_message(100, Hello)\n"
     ]
    }
   ],
   "source": [
    "import os\n",
    "\n",
    "if os.path.isfile('files/auth'):\n",
    "    os.remove('files/auth')\n",
    "\n",
    "print(TelegramTestProvider.visualize(\n",
    "    Scenario()\n",
    "    .send(tp.start())\n",
    "    .check(lambda z: 'Enter pin' in z.args[1])\n",
    "    .send(tp.text('1234'))\n",
    "    .check(\n",
    "        lambda z: 'Authorized' in z.args[1],\n",
    "        lambda z: 'Hi!' in z.args[1]\n",
    "    )\n",
    "    .send(tp.text('Hello'))\n",
    "    .check(lambda z: z.args[1]=='Hello')\n",
    "    .validate(main)\n",
    "))"
   ]
  },
  {
   "cell_type": "markdown",
   "id": "ec5ec083",
   "metadata": {},
   "source": [
    "Now, let's try to initiate the dialog from a different chat:"
   ]
  },
  {
   "cell_type": "code",
   "execution_count": 12,
   "id": "1898c09c",
   "metadata": {
    "execution": {
     "iopub.execute_input": "2023-03-24T14:11:15.753967Z",
     "iopub.status.busy": "2023-03-24T14:11:15.753543Z",
     "iopub.status.idle": "2023-03-24T14:11:15.758189Z",
     "shell.execute_reply": "2023-03-24T14:11:15.757495Z"
    }
   },
   "outputs": [
    {
     "name": "stdout",
     "output_type": "stream",
     "text": [
      "> {\"update_id\": 2, \"message\": {\"chat\": {\"id\": 101, \"type\": \"private\"}, \"text\": \"/start\", \"group_chat_created\": false, \"message_id\": 2, \"delete_chat_photo\": false, \"date\": 1679670675, \"supergroup_chat_created\": false, \"channel_chat_created\": false, \"from\": {\"is_bot\": false, \"first_name\": \"not me\", \"id\": 1}}}\n",
      "  < <kaia.eaglesong.arch.automaton.Terminate object at 0x7f03dc551af0>\n"
     ]
    }
   ],
   "source": [
    "from kaia.eaglesong.arch import Terminate\n",
    "\n",
    "tp1 = TelegramTestProvider(101, 'not me')\n",
    "\n",
    "print(TelegramTestProvider.visualize(\n",
    "    Scenario()\n",
    "    .send(tp1.start())\n",
    "    .check(lambda z: isinstance(z, Terminate))\n",
    "    .validate(main)\n",
    "))    "
   ]
  },
  {
   "cell_type": "markdown",
   "id": "095b45d5",
   "metadata": {},
   "source": [
    "So, this Authorization only authorizes one user, and everyone else will receive a `Terminate` response, which will terminate the chatflow for them immediately."
   ]
  },
  {
   "cell_type": "markdown",
   "id": "7126da9a",
   "metadata": {},
   "source": [
    "## Other chatflows\n",
    "\n",
    "* `eaglesong/part_04_menu.py` offers a menu with buttons, as well as an example of a web-request inside one of the selectable options. "
   ]
  }
 ],
 "metadata": {
  "kernelspec": {
   "display_name": "Python 3 (ipykernel)",
   "language": "python",
   "name": "python3"
  },
  "language_info": {
   "codemirror_mode": {
    "name": "ipython",
    "version": 3
   },
   "file_extension": ".py",
   "mimetype": "text/x-python",
   "name": "python",
   "nbconvert_exporter": "python",
   "pygments_lexer": "ipython3",
   "version": "3.8.16"
  }
 },
 "nbformat": 4,
 "nbformat_minor": 5
}
