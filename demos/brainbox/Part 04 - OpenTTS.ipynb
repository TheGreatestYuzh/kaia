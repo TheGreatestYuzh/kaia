{
 "cells": [
  {
   "cell_type": "markdown",
   "id": "a04402fb-72b0-410b-b2ab-b7976e4b00d6",
   "metadata": {},
   "source": [
    "## OpenTTS\n",
    "\n",
    "OpenTTS is a free and resource-effective text-to-speech docker container that you can use for TTS. It contains a few coqui-tts models, which sounds like human, but do not require GPU to generate.\n",
    "\n",
    "First, run the docker without BrainBox to download all layers."
   ]
  },
  {
   "cell_type": "code",
   "execution_count": 1,
   "id": "34415e9b-3f28-4d45-ac82-14626e54ab8b",
   "metadata": {},
   "outputs": [],
   "source": [
    "import subprocess\n",
    "\n",
    "if 'opentts' not in subprocess.check_output('docker ps  --format \"table {{.Names}}\"').decode('utf-8'):\n",
    "    subprocess.call(['docker','run','--name','opentts', '-d','-it','-p', '5500:5500', 'synesthesiam/opentts:en'])\n"
   ]
  },
  {
   "cell_type": "markdown",
   "id": "f653f56f-5942-4697-9f91-b4922e0565e9",
   "metadata": {},
   "source": [
    "Now let's start the decider and check it's"
   ]
  },
  {
   "cell_type": "code",
   "execution_count": 1,
   "id": "55b30969-bdae-40ff-9d40-16c9823aefb3",
   "metadata": {},
   "outputs": [
    {
     "name": "stdout",
     "output_type": "stream",
     "text": [
      "['5ee25a1d-96b2-4c65-9fbd-b73a9e68510d.wav']\n"
     ]
    },
    {
     "data": {
      "application/vnd.jupyter.widget-view+json": {
       "model_id": "1960ae2f5a0044a2bfbc7a2547ab4b07",
       "version_major": 2,
       "version_minor": 0
      },
      "text/plain": [
       "Audio(value=b'RIFFd\"\\x03\\x00WAVEfmt \\x10\\x00\\x00\\x00\\x01\\x00\\x01\\x00\"V\\x00\\x00D\\xac\\x00\\x00\\x02\\x00\\x10\\x00dat…"
      ]
     },
     "execution_count": 1,
     "metadata": {},
     "output_type": "execute_result"
    }
   ],
   "source": [
    "from kaia.brainbox.deciders.open_tts import OpenTTS, OpenTTSSettings\n",
    "from pathlib import Path\n",
    "import shutil\n",
    "import os\n",
    "from ipywidgets import Audio\n",
    "\n",
    "cache=Path('cache')\n",
    "os.makedirs(cache, exist_ok=True)\n",
    "open_tts = OpenTTS(OpenTTSSettings())\n",
    "open_tts._setup_environment(cache, None)\n",
    "open_tts.warmup('en')\n",
    "result = open_tts(voice='coqui-tts:en_vctk', lang='en', speakerId='p225', text=\"Hello, world! This is the voice of Open T. T. S. model\")\n",
    "print(result)\n",
    "shutil.copyfile(cache/result[0], 'files/opentts_example.wav')\n",
    "Audio.from_file('files/opentts_example.wav', autoplay=False)"
   ]
  }
 ],
 "metadata": {
  "kernelspec": {
   "display_name": "Python 3 (ipykernel)",
   "language": "python",
   "name": "python3"
  },
  "language_info": {
   "codemirror_mode": {
    "name": "ipython",
    "version": 3
   },
   "file_extension": ".py",
   "mimetype": "text/x-python",
   "name": "python",
   "nbconvert_exporter": "python",
   "pygments_lexer": "ipython3",
   "version": "3.11.7"
  }
 },
 "nbformat": 4,
 "nbformat_minor": 5
}
