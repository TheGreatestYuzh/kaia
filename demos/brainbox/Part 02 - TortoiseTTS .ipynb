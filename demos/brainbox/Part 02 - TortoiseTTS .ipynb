{
 "cells": [
  {
   "cell_type": "markdown",
   "id": "088f42c8",
   "metadata": {},
   "source": [
    "We will import default settings from brainbox and setup tortoise-tts in accordance with them. \n"
   ]
  },
  {
   "cell_type": "code",
   "execution_count": 1,
   "id": "a535ed57",
   "metadata": {},
   "outputs": [],
   "source": [
    "from kaia.brainbox import BrainBox\n",
    "\n",
    "settings = BrainBox().settings.tortoise_tts"
   ]
  },
  {
   "cell_type": "markdown",
   "id": "f9edac55",
   "metadata": {},
   "source": [
    "First, we will checkout the repository. Change `ConsoleExecutor.wait` to true, if you experience any error and/or need to evaluate the output of the console command."
   ]
  },
  {
   "cell_type": "code",
   "execution_count": 4,
   "id": "98159b0a",
   "metadata": {},
   "outputs": [],
   "source": [
    "from kaia.infra.demos import ConsoleExecutor\n",
    "from kaia.infra import Loc\n",
    "\n",
    "ConsoleExecutor.wait = False\n",
    "\n",
    "if not settings.tortoise_tts_path.is_dir():\n",
    "    ConsoleExecutor.execute(f'git clone https://github.com/neonbjb/tortoise-tts.git {settings.tortoise_tts_path}')"
   ]
  },
  {
   "cell_type": "markdown",
   "id": "56a9a955",
   "metadata": {},
   "source": [
    "Then, we will create an environment for tortoise-tts and install:\n",
    "- `torch`, `torchvision` and `torchaudio` as required by tortoise tts\n",
    "- `flask` for `brainbox` to work\n",
    "- `notebook` for debugging, if necessary\n",
    "- `tortoise-tts` itself"
   ]
  },
  {
   "cell_type": "code",
   "execution_count": 5,
   "id": "3043ab3e",
   "metadata": {},
   "outputs": [],
   "source": [
    "import os\n",
    "\n",
    "\n",
    "if not os.path.isfile(settings.python_path):\n",
    "    cmd = f'''\n",
    "    {Loc.call_conda} remove --name  {settings.environment} --all -y\n",
    "    {Loc.call_conda} create --name {settings.environment} python=3.8 -y\n",
    "    {Loc.call_conda} activate {settings.environment}\n",
    "    pip install torch==2.0.0 torchvision==0.15.1 torchaudio==2.0.1 --index-url https://download.pytorch.org/whl/cu117\n",
    "    pip install notebook\n",
    "    pip install flask\n",
    "    pip install -e {settings.tortoise_tts_path}\n",
    "    '''\n",
    "\n",
    "    ConsoleExecutor.execute(cmd)"
   ]
  },
  {
   "cell_type": "markdown",
   "id": "2dfb7ae9",
   "metadata": {},
   "source": [
    "We will use Line voice, available at https://dota2.fandom.com/wiki/Line/Responses for demonstration. The files are located in `files/voice` folder.\n",
    "\n",
    "Picking voices from Dota is not the best choise, as the samples are too short, and for many voices, the effects applied also seem to produce negative artifacts on the audio."
   ]
  },
  {
   "cell_type": "code",
   "execution_count": 6,
   "id": "a9be9e82",
   "metadata": {},
   "outputs": [
    {
     "data": {
      "text/plain": [
       "[WindowsPath('files/voice/Vo_lina_lina_battlebegins_01.mp3.mpeg'),\n",
       " WindowsPath('files/voice/Vo_lina_lina_cm_02.mp3.mpeg'),\n",
       " WindowsPath('files/voice/Vo_lina_lina_kill_08.mp3.mpeg'),\n",
       " WindowsPath('files/voice/Vo_lina_lina_purch_03.mp3.mpeg'),\n",
       " WindowsPath('files/voice/Vo_lina_lina_rare_01.mp3.mpeg'),\n",
       " WindowsPath('files/voice/Vo_lina_lina_rare_02.mp3.mpeg'),\n",
       " WindowsPath('files/voice/Vo_lina_lina_rare_03.mp3.mpeg'),\n",
       " WindowsPath('files/voice/Vo_lina_lina_rare_04.mp3.mpeg'),\n",
       " WindowsPath('files/voice/Vo_lina_lina_respawn_08.mp3.mpeg'),\n",
       " WindowsPath('files/voice/Vo_lina_lina_respawn_11.mp3.mpeg'),\n",
       " WindowsPath('files/voice/Vo_lina_lina_rival_01.mp3.mpeg'),\n",
       " WindowsPath('files/voice/Vo_lina_lina_rival_04.mp3.mpeg'),\n",
       " WindowsPath('files/voice/Vo_lina_lina_rival_15.mp3.mpeg')]"
      ]
     },
     "execution_count": 6,
     "metadata": {},
     "output_type": "execute_result"
    }
   ],
   "source": [
    "from yo_fluq_ds import *\n",
    "\n",
    "Query.folder('files/voice').to_list()"
   ]
  },
  {
   "cell_type": "markdown",
   "id": "b8cfe04b",
   "metadata": {},
   "source": [
    "We need to recode files to wav."
   ]
  },
  {
   "cell_type": "code",
   "execution_count": 7,
   "id": "bc20adbb",
   "metadata": {},
   "outputs": [],
   "source": [
    "import os\n",
    "import shutil\n",
    "\n",
    "ffmpeg_path = {Loc.root_folder.parent/\"ffmpeg/bin/ffmpeg\"}\n",
    "voice_folder = settings.get_voice_path(settings.test_voice)\n",
    "\n",
    "\n",
    "if not os.path.isdir(voice_folder):\n",
    "    os.makedirs(voice_folder, exist_ok=True)\n",
    "\n",
    "    cmd = ''\n",
    "    for index, file in enumerate(Query.folder('files/voice')):\n",
    "        cmd+=f'{Loc.root_folder.parent/\"ffmpeg/bin/ffmpeg\"} -i \"{file}\" -ar 22050 {voice_folder/f\"{index}.wav\"} -y\\n'\n",
    "\n",
    "    ConsoleExecutor.execute(cmd)"
   ]
  },
  {
   "cell_type": "markdown",
   "id": "9727a4ba",
   "metadata": {},
   "source": [
    "Now, we can run tortoise-tts. When you do this for the first time, it takes a lot of time, as `tortoise-tts` needs to download models."
   ]
  },
  {
   "cell_type": "code",
   "execution_count": 9,
   "id": "f246a52f",
   "metadata": {},
   "outputs": [],
   "source": [
    "decider = BrainBox().create_deciders_dict()['TortoiseTTS']\n",
    "with decider.debug(None):\n",
    "    results = decider(text='Hello, my name is Lina, nice to meet you', voice='lina')"
   ]
  },
  {
   "cell_type": "code",
   "execution_count": 17,
   "id": "a66fdc24-2848-44ec-aef0-609388a45aaf",
   "metadata": {},
   "outputs": [
    {
     "data": {
      "application/vnd.jupyter.widget-view+json": {
       "model_id": "9d883a9a5d9648d7ab9cd2b4afe43a69",
       "version_major": 2,
       "version_minor": 0
      },
      "text/plain": [
       "VBox(children=(Audio(value=b'RIFFH\\xc0\\x04\\x00WAVEfmt \\x10\\x00\\x00\\x00\\x03\\x00\\x01\\x00\\xc0]\\x00\\x00\\x00w\\x01\\x…"
      ]
     },
     "execution_count": 17,
     "metadata": {},
     "output_type": "execute_result"
    }
   ],
   "source": [
    "from ipywidgets import Audio, VBox\n",
    "\n",
    "Query.en(results).select(lambda z: Audio.from_file(decider.file_cache/z, autoplay=False)).feed(list, VBox)"
   ]
  }
 ],
 "metadata": {
  "kernelspec": {
   "display_name": "Python 3 (ipykernel)",
   "language": "python",
   "name": "python3"
  },
  "language_info": {
   "codemirror_mode": {
    "name": "ipython",
    "version": 3
   },
   "file_extension": ".py",
   "mimetype": "text/x-python",
   "name": "python",
   "nbconvert_exporter": "python",
   "pygments_lexer": "ipython3",
   "version": "3.11.7"
  }
 },
 "nbformat": 4,
 "nbformat_minor": 5
}
