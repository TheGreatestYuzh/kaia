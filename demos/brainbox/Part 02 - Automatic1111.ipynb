{
 "cells": [
  {
   "cell_type": "code",
   "execution_count": 1,
   "id": "33f834f5",
   "metadata": {},
   "outputs": [],
   "source": [
    "from kaia.brainbox import BrainBox\n",
    "\n",
    "box = BrainBox()\n",
    "settings = box.settings.automatic1111"
   ]
  },
  {
   "cell_type": "markdown",
   "id": "0b0991ed",
   "metadata": {
    "execution": {
     "iopub.execute_input": "2023-05-12T07:45:06.840830Z",
     "iopub.status.busy": "2023-05-12T07:45:06.839892Z",
     "iopub.status.idle": "2023-05-12T07:45:06.867775Z",
     "shell.execute_reply": "2023-05-12T07:45:06.867775Z"
    }
   },
   "source": [
    "As it was the case for Tortoise-TTS, this notebook will do everything. Change `ConsoleExecutor.wait` to `True` if you experience an error and/or need to evaluate the console output."
   ]
  },
  {
   "cell_type": "code",
   "execution_count": 2,
   "id": "204c462c",
   "metadata": {},
   "outputs": [],
   "source": [
    "from kaia.infra.demos import ConsoleExecutor\n",
    "\n",
    "ConsoleExecutor.wait = True"
   ]
  },
  {
   "cell_type": "markdown",
   "id": "e8a8ff90",
   "metadata": {},
   "source": [
    "This will clone Automatic1111 if it's missing:"
   ]
  },
  {
   "cell_type": "code",
   "execution_count": 3,
   "id": "36b39573",
   "metadata": {},
   "outputs": [],
   "source": [
    "from kaia.infra import Loc\n",
    "\n",
    "\n",
    "if not settings.automatic1111_path.is_dir():\n",
    "    ConsoleExecutor.execute(f'git clone https://github.com/AUTOMATIC1111/stable-diffusion-webui.git {settings.automatic1111_path}')\n",
    "    "
   ]
  },
  {
   "cell_type": "markdown",
   "id": "c3f24698",
   "metadata": {},
   "source": [
    "The following cell will install AND launch Automatic1111. "
   ]
  },
  {
   "cell_type": "code",
   "execution_count": 4,
   "id": "c0206a74",
   "metadata": {},
   "outputs": [],
   "source": [
    "from kaia.infra import Loc\n",
    "\n",
    "if not settings.python_path.is_file():\n",
    "    ConsoleExecutor.execute(f'{Loc.conda_folder/\"Scripts/conda.exe\"} remove --name {settings.environment} --all -y')\n",
    "    ConsoleExecutor.execute(f'{Loc.conda_folder/\"Scripts/conda.exe\"} create --name {settings.environment} python=3.10 -y')\n",
    "    ConsoleExecutor.execute(f'{settings.python_path} {settings.automatic1111_path/\"launch.py\"}')"
   ]
  },
  {
   "cell_type": "markdown",
   "id": "f7604295",
   "metadata": {},
   "source": [
    "Then, you will probably need lots of models and LORAs and embeddings to achieve the good results. We suggest you to go to civiai and explore these things a bit, playing with different models and LORAs via the Gradio interface.\n",
    "\n",
    "Also, we higly recommend you to play manually before going in automatic mode.\n"
   ]
  },
  {
   "cell_type": "markdown",
   "id": "971aa314-a5bd-4769-ae6d-3ede6fc465af",
   "metadata": {},
   "source": [
    "To produce images programmatically just with the decider, without running a brainbox instance:"
   ]
  },
  {
   "cell_type": "code",
   "execution_count": 7,
   "id": "33f94c08",
   "metadata": {},
   "outputs": [
    {
     "data": {
      "application/vnd.jupyter.widget-view+json": {
       "model_id": "1358cd9f59a042f9bb7464ba28a03713",
       "version_major": 2,
       "version_minor": 0
      },
      "text/plain": [
       "HBox(children=(Image(value=b'\\x89PNG\\r\\n\\x1a\\n\\x00\\x00\\x00\\rIHDR\\x00\\x00\\x02\\x00\\x00\\x00\\x02\\x00\\x08\\x02\\x00\\x…"
      ]
     },
     "execution_count": 7,
     "metadata": {},
     "output_type": "execute_result"
    }
   ],
   "source": [
    "auto1 = box.create_deciders_dict()['Automatic1111']\n",
    "prompt = 'Cute little cat playing with woolball'\n",
    "negative = 'girl, boy, human, two tails, worst_quality, blurry, nsfw, uncensored'\n",
    "from ipywidgets import Image, HBox\n",
    "\n",
    "with auto1.debug(None): #or with the filename to load with a specific model, e.g. `orangemixs_abyss2Sfw.safetensors`\n",
    "    response = auto1(prompt = prompt, negative_prompt=negative, batch_size=2)\n",
    "\n",
    "HBox([Image.from_file(auto1.file_cache/r, width=200, height=200) for r in response])"
   ]
  },
  {
   "cell_type": "markdown",
   "id": "c19d5251-663f-44cf-b793-8e51db34f759",
   "metadata": {},
   "source": [
    "`auto1.debug()` provides a debug mode, where you can play with a decider without the risk of leaving unattended resources. Alternatively, you may use:\n",
    "\n",
    "```\n",
    "auto1.warmup(model_name)\n",
    "...\n",
    "auto1.cooldown(model_name)\n",
    "```"
   ]
  }
 ],
 "metadata": {
  "kernelspec": {
   "display_name": "Python 3 (ipykernel)",
   "language": "python",
   "name": "python3"
  },
  "language_info": {
   "codemirror_mode": {
    "name": "ipython",
    "version": 3
   },
   "file_extension": ".py",
   "mimetype": "text/x-python",
   "name": "python",
   "nbconvert_exporter": "python",
   "pygments_lexer": "ipython3",
   "version": "3.11.7"
  },
  "widgets": {
   "application/vnd.jupyter.widget-state+json": {
    "state": {
     "077719051bd04810ab70f04939186a7b": {
      "model_module": "@jupyter-widgets/controls",
      "model_module_version": "2.0.0",
      "model_name": "HTMLModel",
      "state": {
       "_dom_classes": [],
       "_model_module": "@jupyter-widgets/controls",
       "_model_module_version": "2.0.0",
       "_model_name": "HTMLModel",
       "_view_count": null,
       "_view_module": "@jupyter-widgets/controls",
       "_view_module_version": "2.0.0",
       "_view_name": "HTMLView",
       "description": "",
       "description_allow_html": false,
       "layout": "IPY_MODEL_b68fc9d95b01491ba1887a41be45b037",
       "placeholder": "​",
       "style": "IPY_MODEL_332b794be32a4ad891ce336414d1e5ed",
       "tabbable": null,
       "tooltip": null,
       "value": "100%"
      }
     },
     "0c1ab4ce15c146f5be2d1fc44cfc8997": {
      "model_module": "@jupyter-widgets/base",
      "model_module_version": "2.0.0",
      "model_name": "LayoutModel",
      "state": {
       "_model_module": "@jupyter-widgets/base",
       "_model_module_version": "2.0.0",
       "_model_name": "LayoutModel",
       "_view_count": null,
       "_view_module": "@jupyter-widgets/base",
       "_view_module_version": "2.0.0",
       "_view_name": "LayoutView",
       "align_content": null,
       "align_items": null,
       "align_self": null,
       "border_bottom": null,
       "border_left": null,
       "border_right": null,
       "border_top": null,
       "bottom": null,
       "display": null,
       "flex": null,
       "flex_flow": null,
       "grid_area": null,
       "grid_auto_columns": null,
       "grid_auto_flow": null,
       "grid_auto_rows": null,
       "grid_column": null,
       "grid_gap": null,
       "grid_row": null,
       "grid_template_areas": null,
       "grid_template_columns": null,
       "grid_template_rows": null,
       "height": null,
       "justify_content": null,
       "justify_items": null,
       "left": null,
       "margin": null,
       "max_height": null,
       "max_width": null,
       "min_height": null,
       "min_width": null,
       "object_fit": null,
       "object_position": null,
       "order": null,
       "overflow": null,
       "padding": null,
       "right": null,
       "top": null,
       "visibility": null,
       "width": null
      }
     },
     "29e93e78b89440759ea9eb63141563e5": {
      "model_module": "@jupyter-widgets/controls",
      "model_module_version": "2.0.0",
      "model_name": "HTMLStyleModel",
      "state": {
       "_model_module": "@jupyter-widgets/controls",
       "_model_module_version": "2.0.0",
       "_model_name": "HTMLStyleModel",
       "_view_count": null,
       "_view_module": "@jupyter-widgets/base",
       "_view_module_version": "2.0.0",
       "_view_name": "StyleView",
       "background": null,
       "description_width": "",
       "font_size": null,
       "text_color": null
      }
     },
     "332b794be32a4ad891ce336414d1e5ed": {
      "model_module": "@jupyter-widgets/controls",
      "model_module_version": "2.0.0",
      "model_name": "HTMLStyleModel",
      "state": {
       "_model_module": "@jupyter-widgets/controls",
       "_model_module_version": "2.0.0",
       "_model_name": "HTMLStyleModel",
       "_view_count": null,
       "_view_module": "@jupyter-widgets/base",
       "_view_module_version": "2.0.0",
       "_view_name": "StyleView",
       "background": null,
       "description_width": "",
       "font_size": null,
       "text_color": null
      }
     },
     "335669c892dd4931b458e4701868f416": {
      "buffers": [
       {
        "data": "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",
        "encoding": "base64",
        "path": [
         "value"
        ]
       }
      ],
      "model_module": "@jupyter-widgets/controls",
      "model_module_version": "2.0.0",
      "model_name": "ImageModel",
      "state": {
       "_dom_classes": [],
       "_model_module": "@jupyter-widgets/controls",
       "_model_module_version": "2.0.0",
       "_model_name": "ImageModel",
       "_view_count": null,
       "_view_module": "@jupyter-widgets/controls",
       "_view_module_version": "2.0.0",
       "_view_name": "ImageView",
       "format": "png",
       "height": "",
       "layout": "IPY_MODEL_0c1ab4ce15c146f5be2d1fc44cfc8997",
       "tabbable": null,
       "tooltip": null,
       "value": {},
       "width": ""
      }
     },
     "5199a299381440b3bf3028cfc6330237": {
      "model_module": "@jupyter-widgets/controls",
      "model_module_version": "2.0.0",
      "model_name": "HBoxModel",
      "state": {
       "_dom_classes": [],
       "_model_module": "@jupyter-widgets/controls",
       "_model_module_version": "2.0.0",
       "_model_name": "HBoxModel",
       "_view_count": null,
       "_view_module": "@jupyter-widgets/controls",
       "_view_module_version": "2.0.0",
       "_view_name": "HBoxView",
       "box_style": "",
       "children": [
        "IPY_MODEL_335669c892dd4931b458e4701868f416",
        "IPY_MODEL_6335ddd192d143d8b6eb45ab737880db"
       ],
       "layout": "IPY_MODEL_9bb927fd140444e18b7fb2d83f68f00b",
       "tabbable": null,
       "tooltip": null
      }
     },
     "592b18864558424993467abe8e8d74cc": {
      "model_module": "@jupyter-widgets/controls",
      "model_module_version": "2.0.0",
      "model_name": "ProgressStyleModel",
      "state": {
       "_model_module": "@jupyter-widgets/controls",
       "_model_module_version": "2.0.0",
       "_model_name": "ProgressStyleModel",
       "_view_count": null,
       "_view_module": "@jupyter-widgets/base",
       "_view_module_version": "2.0.0",
       "_view_name": "StyleView",
       "bar_color": null,
       "description_width": ""
      }
     },
     "5bed084b7f824d448504638eb22ddb14": {
      "model_module": "@jupyter-widgets/base",
      "model_module_version": "2.0.0",
      "model_name": "LayoutModel",
      "state": {
       "_model_module": "@jupyter-widgets/base",
       "_model_module_version": "2.0.0",
       "_model_name": "LayoutModel",
       "_view_count": null,
       "_view_module": "@jupyter-widgets/base",
       "_view_module_version": "2.0.0",
       "_view_name": "LayoutView",
       "align_content": null,
       "align_items": null,
       "align_self": null,
       "border_bottom": null,
       "border_left": null,
       "border_right": null,
       "border_top": null,
       "bottom": null,
       "display": null,
       "flex": null,
       "flex_flow": null,
       "grid_area": null,
       "grid_auto_columns": null,
       "grid_auto_flow": null,
       "grid_auto_rows": null,
       "grid_column": null,
       "grid_gap": null,
       "grid_row": null,
       "grid_template_areas": null,
       "grid_template_columns": null,
       "grid_template_rows": null,
       "height": null,
       "justify_content": null,
       "justify_items": null,
       "left": null,
       "margin": null,
       "max_height": null,
       "max_width": null,
       "min_height": null,
       "min_width": null,
       "object_fit": null,
       "object_position": null,
       "order": null,
       "overflow": null,
       "padding": null,
       "right": null,
       "top": null,
       "visibility": null,
       "width": null
      }
     },
     "6335ddd192d143d8b6eb45ab737880db": {
      "buffers": [
       {
        "data": "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",
        "encoding": "base64",
        "path": [
         "value"
        ]
       }
      ],
      "model_module": "@jupyter-widgets/controls",
      "model_module_version": "2.0.0",
      "model_name": "ImageModel",
      "state": {
       "_dom_classes": [],
       "_model_module": "@jupyter-widgets/controls",
       "_model_module_version": "2.0.0",
       "_model_name": "ImageModel",
       "_view_count": null,
       "_view_module": "@jupyter-widgets/controls",
       "_view_module_version": "2.0.0",
       "_view_name": "ImageView",
       "format": "png",
       "height": "",
       "layout": "IPY_MODEL_8d86b6c65c2448fa99043f5e9ddd41de",
       "tabbable": null,
       "tooltip": null,
       "value": {},
       "width": ""
      }
     },
     "6791e0fbfc794e8cac31146d0ee22d9d": {
      "model_module": "@jupyter-widgets/controls",
      "model_module_version": "2.0.0",
      "model_name": "FloatProgressModel",
      "state": {
       "_dom_classes": [],
       "_model_module": "@jupyter-widgets/controls",
       "_model_module_version": "2.0.0",
       "_model_name": "FloatProgressModel",
       "_view_count": null,
       "_view_module": "@jupyter-widgets/controls",
       "_view_module_version": "2.0.0",
       "_view_name": "ProgressView",
       "bar_style": "success",
       "description": "",
       "description_allow_html": false,
       "layout": "IPY_MODEL_b8e3d324aa8243beb1a91338ff8efc7d",
       "max": 100,
       "min": 0,
       "orientation": "horizontal",
       "style": "IPY_MODEL_592b18864558424993467abe8e8d74cc",
       "tabbable": null,
       "tooltip": null,
       "value": 100
      }
     },
     "8d86b6c65c2448fa99043f5e9ddd41de": {
      "model_module": "@jupyter-widgets/base",
      "model_module_version": "2.0.0",
      "model_name": "LayoutModel",
      "state": {
       "_model_module": "@jupyter-widgets/base",
       "_model_module_version": "2.0.0",
       "_model_name": "LayoutModel",
       "_view_count": null,
       "_view_module": "@jupyter-widgets/base",
       "_view_module_version": "2.0.0",
       "_view_name": "LayoutView",
       "align_content": null,
       "align_items": null,
       "align_self": null,
       "border_bottom": null,
       "border_left": null,
       "border_right": null,
       "border_top": null,
       "bottom": null,
       "display": null,
       "flex": null,
       "flex_flow": null,
       "grid_area": null,
       "grid_auto_columns": null,
       "grid_auto_flow": null,
       "grid_auto_rows": null,
       "grid_column": null,
       "grid_gap": null,
       "grid_row": null,
       "grid_template_areas": null,
       "grid_template_columns": null,
       "grid_template_rows": null,
       "height": null,
       "justify_content": null,
       "justify_items": null,
       "left": null,
       "margin": null,
       "max_height": null,
       "max_width": null,
       "min_height": null,
       "min_width": null,
       "object_fit": null,
       "object_position": null,
       "order": null,
       "overflow": null,
       "padding": null,
       "right": null,
       "top": null,
       "visibility": null,
       "width": null
      }
     },
     "92d0ee55871044f1867c45dbc64509d5": {
      "model_module": "@jupyter-widgets/controls",
      "model_module_version": "2.0.0",
      "model_name": "HBoxModel",
      "state": {
       "_dom_classes": [],
       "_model_module": "@jupyter-widgets/controls",
       "_model_module_version": "2.0.0",
       "_model_name": "HBoxModel",
       "_view_count": null,
       "_view_module": "@jupyter-widgets/controls",
       "_view_module_version": "2.0.0",
       "_view_name": "HBoxView",
       "box_style": "",
       "children": [
        "IPY_MODEL_077719051bd04810ab70f04939186a7b",
        "IPY_MODEL_6791e0fbfc794e8cac31146d0ee22d9d",
        "IPY_MODEL_dd5fa54f16994b978c45ae8310c8db1e"
       ],
       "layout": "IPY_MODEL_5bed084b7f824d448504638eb22ddb14",
       "tabbable": null,
       "tooltip": null
      }
     },
     "9bb927fd140444e18b7fb2d83f68f00b": {
      "model_module": "@jupyter-widgets/base",
      "model_module_version": "2.0.0",
      "model_name": "LayoutModel",
      "state": {
       "_model_module": "@jupyter-widgets/base",
       "_model_module_version": "2.0.0",
       "_model_name": "LayoutModel",
       "_view_count": null,
       "_view_module": "@jupyter-widgets/base",
       "_view_module_version": "2.0.0",
       "_view_name": "LayoutView",
       "align_content": null,
       "align_items": null,
       "align_self": null,
       "border_bottom": null,
       "border_left": null,
       "border_right": null,
       "border_top": null,
       "bottom": null,
       "display": null,
       "flex": null,
       "flex_flow": null,
       "grid_area": null,
       "grid_auto_columns": null,
       "grid_auto_flow": null,
       "grid_auto_rows": null,
       "grid_column": null,
       "grid_gap": null,
       "grid_row": null,
       "grid_template_areas": null,
       "grid_template_columns": null,
       "grid_template_rows": null,
       "height": null,
       "justify_content": null,
       "justify_items": null,
       "left": null,
       "margin": null,
       "max_height": null,
       "max_width": null,
       "min_height": null,
       "min_width": null,
       "object_fit": null,
       "object_position": null,
       "order": null,
       "overflow": null,
       "padding": null,
       "right": null,
       "top": null,
       "visibility": null,
       "width": null
      }
     },
     "acaa0d3666574cacacb044ea338cd6d5": {
      "model_module": "@jupyter-widgets/base",
      "model_module_version": "2.0.0",
      "model_name": "LayoutModel",
      "state": {
       "_model_module": "@jupyter-widgets/base",
       "_model_module_version": "2.0.0",
       "_model_name": "LayoutModel",
       "_view_count": null,
       "_view_module": "@jupyter-widgets/base",
       "_view_module_version": "2.0.0",
       "_view_name": "LayoutView",
       "align_content": null,
       "align_items": null,
       "align_self": null,
       "border_bottom": null,
       "border_left": null,
       "border_right": null,
       "border_top": null,
       "bottom": null,
       "display": null,
       "flex": null,
       "flex_flow": null,
       "grid_area": null,
       "grid_auto_columns": null,
       "grid_auto_flow": null,
       "grid_auto_rows": null,
       "grid_column": null,
       "grid_gap": null,
       "grid_row": null,
       "grid_template_areas": null,
       "grid_template_columns": null,
       "grid_template_rows": null,
       "height": null,
       "justify_content": null,
       "justify_items": null,
       "left": null,
       "margin": null,
       "max_height": null,
       "max_width": null,
       "min_height": null,
       "min_width": null,
       "object_fit": null,
       "object_position": null,
       "order": null,
       "overflow": null,
       "padding": null,
       "right": null,
       "top": null,
       "visibility": null,
       "width": null
      }
     },
     "b68fc9d95b01491ba1887a41be45b037": {
      "model_module": "@jupyter-widgets/base",
      "model_module_version": "2.0.0",
      "model_name": "LayoutModel",
      "state": {
       "_model_module": "@jupyter-widgets/base",
       "_model_module_version": "2.0.0",
       "_model_name": "LayoutModel",
       "_view_count": null,
       "_view_module": "@jupyter-widgets/base",
       "_view_module_version": "2.0.0",
       "_view_name": "LayoutView",
       "align_content": null,
       "align_items": null,
       "align_self": null,
       "border_bottom": null,
       "border_left": null,
       "border_right": null,
       "border_top": null,
       "bottom": null,
       "display": null,
       "flex": null,
       "flex_flow": null,
       "grid_area": null,
       "grid_auto_columns": null,
       "grid_auto_flow": null,
       "grid_auto_rows": null,
       "grid_column": null,
       "grid_gap": null,
       "grid_row": null,
       "grid_template_areas": null,
       "grid_template_columns": null,
       "grid_template_rows": null,
       "height": null,
       "justify_content": null,
       "justify_items": null,
       "left": null,
       "margin": null,
       "max_height": null,
       "max_width": null,
       "min_height": null,
       "min_width": null,
       "object_fit": null,
       "object_position": null,
       "order": null,
       "overflow": null,
       "padding": null,
       "right": null,
       "top": null,
       "visibility": null,
       "width": null
      }
     },
     "b8e3d324aa8243beb1a91338ff8efc7d": {
      "model_module": "@jupyter-widgets/base",
      "model_module_version": "2.0.0",
      "model_name": "LayoutModel",
      "state": {
       "_model_module": "@jupyter-widgets/base",
       "_model_module_version": "2.0.0",
       "_model_name": "LayoutModel",
       "_view_count": null,
       "_view_module": "@jupyter-widgets/base",
       "_view_module_version": "2.0.0",
       "_view_name": "LayoutView",
       "align_content": null,
       "align_items": null,
       "align_self": null,
       "border_bottom": null,
       "border_left": null,
       "border_right": null,
       "border_top": null,
       "bottom": null,
       "display": null,
       "flex": null,
       "flex_flow": null,
       "grid_area": null,
       "grid_auto_columns": null,
       "grid_auto_flow": null,
       "grid_auto_rows": null,
       "grid_column": null,
       "grid_gap": null,
       "grid_row": null,
       "grid_template_areas": null,
       "grid_template_columns": null,
       "grid_template_rows": null,
       "height": null,
       "justify_content": null,
       "justify_items": null,
       "left": null,
       "margin": null,
       "max_height": null,
       "max_width": null,
       "min_height": null,
       "min_width": null,
       "object_fit": null,
       "object_position": null,
       "order": null,
       "overflow": null,
       "padding": null,
       "right": null,
       "top": null,
       "visibility": null,
       "width": null
      }
     },
     "dd5fa54f16994b978c45ae8310c8db1e": {
      "model_module": "@jupyter-widgets/controls",
      "model_module_version": "2.0.0",
      "model_name": "HTMLModel",
      "state": {
       "_dom_classes": [],
       "_model_module": "@jupyter-widgets/controls",
       "_model_module_version": "2.0.0",
       "_model_name": "HTMLModel",
       "_view_count": null,
       "_view_module": "@jupyter-widgets/controls",
       "_view_module_version": "2.0.0",
       "_view_name": "HTMLView",
       "description": "",
       "description_allow_html": false,
       "layout": "IPY_MODEL_acaa0d3666574cacacb044ea338cd6d5",
       "placeholder": "​",
       "style": "IPY_MODEL_29e93e78b89440759ea9eb63141563e5",
       "tabbable": null,
       "tooltip": null,
       "value": " 100/100 [00:10&lt;00:00, 13.21 %/s]"
      }
     }
    },
    "version_major": 2,
    "version_minor": 0
   }
  }
 },
 "nbformat": 4,
 "nbformat_minor": 5
}
