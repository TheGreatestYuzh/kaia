{
 "cells": [
  {
   "cell_type": "markdown",
   "id": "c3a57b88-cef2-4846-8d42-7c66ab0daac8",
   "metadata": {},
   "source": [
    "## Introduction"
   ]
  },
  {
   "cell_type": "markdown",
   "id": "379ba46e-5606-4bbd-9f0f-63676595f7bc",
   "metadata": {},
   "source": [
    "Brainbox is a service that:\n",
    "\n",
    "* hosts _Deciders_, representations of ML-services, such as Oobabooga or Automatic1111.\n",
    "* provides a unified API access to the deciders\n",
    "* starts and stops the deciders, managing the GPU load\n",
    "* queues incoming tasks and executes them asynchonously, storing results in a database.\n",
    "\n",
    "In this scenario, BrainBox is supposed to be constantly on a GPU machine and execute the tasks when it's not busy. \n",
    "\n",
    "In alternative scenario, BrainBox can be used to proxy the models without starting and stopping them, to provide logging and caching all the incoming and outgoing data, as well as for the interface unification.\n",
    "\n",
    "Let's configure a local BrainBox and run some tasks on it. "
   ]
  },
  {
   "cell_type": "code",
   "execution_count": 1,
   "id": "53781ec9-e125-4c34-a11e-7870280d5f16",
   "metadata": {},
   "outputs": [],
   "source": [
    "from kaia.brainbox import BrainBoxSettings, BrainBoxTestApi, BrainBoxTask\n",
    "from kaia.brainbox.deciders.fake_image_generator import FakeImageDecider\n",
    "\n",
    "#Dict of decider is needed to build a correspondence between the name and the type of the decider\n",
    "deciders = {'FakeImageDecider': FakeImageDecider()}\n",
    "\n",
    "#Setting contain various settings of everything ML-related, including the settings of the supported models. We can alter these settings\n",
    "settings = BrainBoxSettings()\n",
    "settings.brain_box_web_port = 8091\n",
    "\n",
    "#This line boots up brainbox in a testmode. It will work as a real webserver, and will be brought down after the `with` scope.\n",
    "with BrainBoxTestApi(deciders) as api:\n",
    "    task = BrainBoxTask(id = BrainBoxTask.safe_id(), decider = 'FakeImageDecider', arguments = dict(prompt='Some prompt'), decider_method = None)\n",
    "    result = api.execute(task)\n",
    "    api.pull_content(result[0])\n",
    "    downloaded_path = api.download(result[1])"
   ]
  },
  {
   "cell_type": "markdown",
   "id": "3d53e5c2-4120-4812-98c0-75f77b09fcf8",
   "metadata": {},
   "source": [
    "To run the task, BrainBox determines the appropriate decider and runs einther `__call__` (if `decider_method` is None, which is a default), or a specified method. `arguments` are passed to this method.\n"
   ]
  },
  {
   "cell_type": "markdown",
   "id": "ccb614d6-fdce-4a2a-b03b-0b5fa2c57c63",
   "metadata": {},
   "source": [
    "### Returned files\n",
    "\n",
    "\n",
    "FakeImageDecider, as well as Automatic1111, returns the list of file objects. These objects may or may not have content; by default, brainbox doesn't return content. If content is needed, retrieve it with `api.pull_content`. "
   ]
  },
  {
   "cell_type": "code",
   "execution_count": 2,
   "id": "0c805071-eb16-4394-b3d0-46efc3eb45f1",
   "metadata": {},
   "outputs": [
    {
     "name": "stdout",
     "output_type": "stream",
     "text": [
      "False True\n"
     ]
    }
   ],
   "source": [
    "print(result[0].content is None, result[1].content is None)"
   ]
  },
  {
   "cell_type": "markdown",
   "id": "1772d06c-4adc-4f4b-a82b-781e7623eb5d",
   "metadata": {},
   "source": [
    "Alternativaly, you may use `api.download` to move file from server to a local folder; the method returns the filename at the local machine. "
   ]
  },
  {
   "cell_type": "code",
   "execution_count": 3,
   "id": "a159c8cb-4082-45ac-8760-6475b7bd9e0a",
   "metadata": {},
   "outputs": [
    {
     "data": {
      "text/plain": [
       "b'{\"prompt\": \"Some prompt\", \"option_index\": 1, \"model\": null}'"
      ]
     },
     "execution_count": 3,
     "metadata": {},
     "output_type": "execute_result"
    }
   ],
   "source": [
    "from kaia.infra import FileIO\n",
    "\n",
    "FileIO.read_bytes(downloaded_path)"
   ]
  },
  {
   "cell_type": "markdown",
   "id": "5407cd51-e8ca-4438-9c0d-e641205a519d",
   "metadata": {},
   "source": [
    "### Multiple tasks and asyncronysity "
   ]
  },
  {
   "cell_type": "markdown",
   "id": "d72891b3-c3bf-4d06-8952-e68c2a7ac44b",
   "metadata": {},
   "source": [
    "`execute` method can also accept a list of tasks, in this case `result` will be an array, each element containing the result of the corresponding task.\n",
    "\n",
    "We can also execute tasks asyncronously:"
   ]
  },
  {
   "cell_type": "code",
   "execution_count": 4,
   "id": "98f083a2-c366-4795-9942-5f46f623bb5f",
   "metadata": {},
   "outputs": [
    {
     "name": "stdout",
     "output_type": "stream",
     "text": [
      "Do something while Brainbox is executing out task\n"
     ]
    },
    {
     "data": {
      "text/plain": [
       "[File(id_c5b48a21613e4a32bb76e059c4b53c82.output.0.json),\n",
       " File(id_c5b48a21613e4a32bb76e059c4b53c82.output.1.json),\n",
       " File(id_c5b48a21613e4a32bb76e059c4b53c82.output.2.json),\n",
       " File(id_c5b48a21613e4a32bb76e059c4b53c82.output.3.json)]"
      ]
     },
     "execution_count": 4,
     "metadata": {},
     "output_type": "execute_result"
    }
   ],
   "source": [
    "with BrainBoxTestApi(deciders) as api:\n",
    "    task = BrainBoxTask(id = BrainBoxTask.safe_id(), decider = 'FakeImageDecider', arguments = dict(prompt='Some prompt'))\n",
    "    api.add(task)\n",
    "    print('Do something while Brainbox is executing out task')\n",
    "    result = api.join(task)\n",
    "\n",
    "result"
   ]
  },
  {
   "cell_type": "markdown",
   "id": "b6042878-27f3-4aa1-953e-a77d0d6537a2",
   "metadata": {},
   "source": [
    "We can poll the task status:"
   ]
  },
  {
   "cell_type": "code",
   "execution_count": 5,
   "id": "8734f921-4d23-4a2b-bdfe-d9cb76cc737e",
   "metadata": {},
   "outputs": [
    {
     "name": "stdout",
     "output_type": "stream",
     "text": [
      "{'accepted': False,\n",
      " 'accepted_timestamp': None,\n",
      " 'arguments': {'prompt': 'Some prompt'},\n",
      " 'assigned': False,\n",
      " 'assigned_timestamp': None,\n",
      " 'back_track': None,\n",
      " 'batch': None,\n",
      " 'decider': 'FakeImageDecider',\n",
      " 'decider_parameters': None,\n",
      " 'dependencies': None,\n",
      " 'error': None,\n",
      " 'finished': False,\n",
      " 'finished_timestamp': None,\n",
      " 'has_dependencies': False,\n",
      " 'id': 'id_04122acdf5ea415ba7d79e0566c73abd',\n",
      " 'log': None,\n",
      " 'method': None,\n",
      " 'progress': None,\n",
      " 'ready': False,\n",
      " 'ready_timestamp': None,\n",
      " 'received_timestamp': datetime.datetime(2024, 8, 7, 11, 30, 18, 412337),\n",
      " 'result': None,\n",
      " 'success': False}\n"
     ]
    }
   ],
   "source": [
    "from pprint import pformat\n",
    "\n",
    "with BrainBoxTestApi(deciders) as api:\n",
    "    task = BrainBoxTask(id = BrainBoxTask.safe_id(), decider = 'FakeImageDecider', arguments = dict(prompt='Some prompt'))\n",
    "    api.add(task)\n",
    "    job_state = api.get_job(task.id)\n",
    "    result = api.join(task)\n",
    "\n",
    "print(pformat({key:value for key, value in job_state.__dict__.items() if not key.startswith('_')}))"
   ]
  },
  {
   "cell_type": "markdown",
   "id": "9a019def-3fc9-47dd-a794-22c980de6c62",
   "metadata": {},
   "source": [
    "## Warming up and cooling down"
   ]
  },
  {
   "cell_type": "markdown",
   "id": "d88a298f-70ac-4fd3-804b-ef94355269a2",
   "metadata": {},
   "source": [
    "When decider warms up, it accepts a string parameter that may affect the decider. The most obvious use case for the parameter is a base model for Automatic1111 or Oobabooga. \n",
    "\n",
    "In this implementation, one cannot change the parameter of the running decider: it needs to be cooled down and then warmed up. Since the majority of time is anyways consumed to load the model, it's not a big problem.\n",
    "\n",
    "A `Planer` is used to determine which deciders to warm up or cool down, and also which tasks should be executed on the currently-up deciders. `SimpleDecider` which is used in `BrainBoxTestApi`, selects the decider for longest-waiting task, warms the decider up, executes all tasks that match this decider, and then cools the decider down. Other planners with more sophisticated logic can be implemented. \n",
    "\n",
    "Let's see how parameters work in action"
   ]
  },
  {
   "cell_type": "code",
   "execution_count": 6,
   "id": "fe989501-c25c-455d-9705-753a55a350a8",
   "metadata": {},
   "outputs": [],
   "source": [
    "test_api = BrainBoxTestApi(deciders)\n",
    "with test_api as api:\n",
    "    tasks = []\n",
    "    for index in range(3):\n",
    "        for model in ['a','b','c']:\n",
    "            tasks.append(BrainBoxTask(\n",
    "                id = BrainBoxTask.safe_id(), \n",
    "                decider = 'FakeImageDecider', \n",
    "                arguments = dict(prompt=f'{model}/{index}'), \n",
    "                decider_parameters=model))\n",
    "    results = api.execute(tasks)\n",
    "    files = [api.download(result[0]) for result in results]"
   ]
  },
  {
   "cell_type": "code",
   "execution_count": 7,
   "id": "e013351b-8a8b-4975-b514-0cf7a0222878",
   "metadata": {},
   "outputs": [
    {
     "data": {
      "text/html": [
       "<div>\n",
       "<style scoped>\n",
       "    .dataframe tbody tr th:only-of-type {\n",
       "        vertical-align: middle;\n",
       "    }\n",
       "\n",
       "    .dataframe tbody tr th {\n",
       "        vertical-align: top;\n",
       "    }\n",
       "\n",
       "    .dataframe thead th {\n",
       "        text-align: right;\n",
       "    }\n",
       "</style>\n",
       "<table border=\"1\" class=\"dataframe\">\n",
       "  <thead>\n",
       "    <tr style=\"text-align: right;\">\n",
       "      <th></th>\n",
       "      <th>prompt</th>\n",
       "      <th>option_index</th>\n",
       "      <th>model</th>\n",
       "    </tr>\n",
       "  </thead>\n",
       "  <tbody>\n",
       "    <tr>\n",
       "      <th>0</th>\n",
       "      <td>a/0</td>\n",
       "      <td>0</td>\n",
       "      <td>a</td>\n",
       "    </tr>\n",
       "    <tr>\n",
       "      <th>1</th>\n",
       "      <td>b/0</td>\n",
       "      <td>0</td>\n",
       "      <td>b</td>\n",
       "    </tr>\n",
       "    <tr>\n",
       "      <th>2</th>\n",
       "      <td>c/0</td>\n",
       "      <td>0</td>\n",
       "      <td>c</td>\n",
       "    </tr>\n",
       "    <tr>\n",
       "      <th>3</th>\n",
       "      <td>a/1</td>\n",
       "      <td>0</td>\n",
       "      <td>a</td>\n",
       "    </tr>\n",
       "    <tr>\n",
       "      <th>4</th>\n",
       "      <td>b/1</td>\n",
       "      <td>0</td>\n",
       "      <td>b</td>\n",
       "    </tr>\n",
       "    <tr>\n",
       "      <th>5</th>\n",
       "      <td>c/1</td>\n",
       "      <td>0</td>\n",
       "      <td>c</td>\n",
       "    </tr>\n",
       "    <tr>\n",
       "      <th>6</th>\n",
       "      <td>a/2</td>\n",
       "      <td>0</td>\n",
       "      <td>a</td>\n",
       "    </tr>\n",
       "    <tr>\n",
       "      <th>7</th>\n",
       "      <td>b/2</td>\n",
       "      <td>0</td>\n",
       "      <td>b</td>\n",
       "    </tr>\n",
       "    <tr>\n",
       "      <th>8</th>\n",
       "      <td>c/2</td>\n",
       "      <td>0</td>\n",
       "      <td>c</td>\n",
       "    </tr>\n",
       "  </tbody>\n",
       "</table>\n",
       "</div>"
      ],
      "text/plain": [
       "  prompt  option_index model\n",
       "0    a/0             0     a\n",
       "1    b/0             0     b\n",
       "2    c/0             0     c\n",
       "3    a/1             0     a\n",
       "4    b/1             0     b\n",
       "5    c/1             0     c\n",
       "6    a/2             0     a\n",
       "7    b/2             0     b\n",
       "8    c/2             0     c"
      ]
     },
     "execution_count": 7,
     "metadata": {},
     "output_type": "execute_result"
    }
   ],
   "source": [
    "import pandas as pd\n",
    "\n",
    "pd.DataFrame([FileIO.read_json(file) for file in files])"
   ]
  },
  {
   "cell_type": "markdown",
   "id": "47460fb1-4c16-4e02-83b8-8a2915a7b16b",
   "metadata": {},
   "source": [
    "We can see that indeed the tasks were called with different models. "
   ]
  },
  {
   "cell_type": "markdown",
   "id": "91ad469a-4675-474d-bb2f-44f190f7bd31",
   "metadata": {},
   "source": [
    "## Better tasks definitions\n",
    "\n",
    "Brainbox API provides several ways to define a `BrainBoxTask` object. Let's create a custom decider and see how we can define the corresponding tasks:"
   ]
  },
  {
   "cell_type": "code",
   "execution_count": 8,
   "id": "911a7927-19a3-4e80-a766-328bad7b93f9",
   "metadata": {},
   "outputs": [
    {
     "name": "stdout",
     "output_type": "stream",
     "text": [
      "*** 0\n",
      "*** 4\n",
      "{'a': 5, 'b': 1, 'model': 'c'}\n",
      "{'a': 6, 'b': 1, 'model': 'c'}\n",
      "{'a': 5, 'b': 1, 'model': 'c'}\n",
      "{'a': 5, 'b': 1, 'model': 'c'}\n"
     ]
    }
   ],
   "source": [
    "from kaia.brainbox.core import IDecider\n",
    "\n",
    "class Test(IDecider):\n",
    "    def __init__(self):\n",
    "        self.model = None\n",
    "    \n",
    "    def warmup(self, parameters):\n",
    "        self.model = parameters\n",
    "\n",
    "    def cooldown(self, parameters):\n",
    "        self.model = parameters\n",
    "\n",
    "    def run(self, a, b=1):\n",
    "        return dict(a=a, b=b, model=model)\n",
    "\n",
    "tasks = [\n",
    "    BrainBoxTask(decider='Test', decider_method='run', decider_parameters='my_model', arguments = dict(a=5)),\n",
    "    BrainBoxTask(decider=Test, decider_method='run', decider_parameters='my_model', arguments = dict(a=6)),\n",
    "    BrainBoxTask(decider=Test.run, decider_parameters='my_model', arguments = dict(a=5)),\n",
    "    BrainBoxTask.call(Test).run(a=5).to_task('my_model'),\n",
    "]\n",
    "\n",
    "results, _ = BrainBoxTestApi.execute_serverless(tasks,dict(Test=Test()))\n",
    "    \n",
    "for result in results:\n",
    "    print(result.result)"
   ]
  },
  {
   "cell_type": "markdown",
   "id": "9be1587a-71ca-442a-9158-0f7a52fe676b",
   "metadata": {},
   "source": [
    "All these methods define the same task. The last two variants also checks if the arguments are correct:"
   ]
  },
  {
   "cell_type": "code",
   "execution_count": 9,
   "id": "b355baec-3748-4c58-8b76-4beef01183fb",
   "metadata": {},
   "outputs": [
    {
     "name": "stdout",
     "output_type": "stream",
     "text": [
      "{'a': 5}\n",
      "{'a': 5, 'b': 3}\n",
      "The following arguments are missing: a\n",
      "Unexpected argument x\n"
     ]
    }
   ],
   "source": [
    "import traceback\n",
    "\n",
    "print(BrainBoxTask.call(Test).run(a=5).to_task().arguments)\n",
    "print(BrainBoxTask.call(Test).run(a=5, b=3).to_task().arguments)\n",
    "try:\n",
    "    print(BrainBoxTask.call(Test).run(b=1).to_task().arguments)\n",
    "except ValueError as e:\n",
    "    print(e)\n",
    "try:\n",
    "    print(BrainBoxTask.call(Test).run(x=5, a=5).to_task().arguments)\n",
    "except ValueError as e:\n",
    "    print(e)"
   ]
  },
  {
   "cell_type": "markdown",
   "id": "0049bd8a-3439-46d0-b1ca-b12a3a68346c",
   "metadata": {},
   "source": [
    "In most cases, you don't need to write `to_task` in the end, if you don't want any additional parameters. When I was developing BrainBox, I was constantly forgetting to write it, and augmented BrainBoxApi methods in a way that forgives this mistake. However, this is not a standard, and methods outside of the BrainBoxApi methods may fail if you do this."
   ]
  },
  {
   "cell_type": "markdown",
   "id": "a1935c73-90b1-4ec0-b52e-b0bcb375b66f",
   "metadata": {},
   "source": [
    "## Media Libraries and tasks dependencies"
   ]
  },
  {
   "cell_type": "markdown",
   "id": "0796121a-0894-4dc3-8814-2cd6d57aeb44",
   "metadata": {},
   "source": [
    "In the on-premise hosting setup, we can't count on continuous availability of the GPU. Hence, a strategy can be to generate excess amount of content in advance. This scenario is supported in BrainBox with `Collector` decider and `MediaLibrary` format."
   ]
  },
  {
   "cell_type": "code",
   "execution_count": 10,
   "id": "167114e0-9c2c-426a-a840-2d22307636b1",
   "metadata": {},
   "outputs": [],
   "source": [
    "from kaia.brainbox.deciders.collector import Collector\n",
    "\n",
    "deciders = {'FakeImageDecider': FakeImageDecider(), 'Collector': Collector()}\n",
    "\n",
    "with BrainBoxTestApi(deciders) as api:\n",
    "    tags = {}\n",
    "    dependencies = {}\n",
    "    for i in range(5):\n",
    "        task = BrainBoxTask.call(FakeImageDecider)(prompt='Some prompt').to_task()\n",
    "        tags[task.id] = dict(index=i)\n",
    "        dependencies[task.id] = task.id\n",
    "        api.add(task)\n",
    "\n",
    "    collection_task = BrainBoxTask.call(Collector).to_media_library(tags=tags).to_task(dependencies = dependencies)\n",
    "    result = api.execute([collection_task])\n",
    "    library = api.download(result[0])\n",
    "           "
   ]
  },
  {
   "cell_type": "markdown",
   "id": "3fd52945-dae1-4836-b0be-c3ffd5c61237",
   "metadata": {},
   "source": [
    "What happens here? BrainBox processes key-value pairs in `dependencies` by assigning the result of the task with id `value` to an argument of the decider's method with the name `key`. In our case, `key` equls `value`, but in other scenarios it may happen that the result of one decider must be injected as a particular argument to other decider, hence the dictionary. \n",
    "\n",
    "`Collector` then assembles all the outputs into one zip file, a media library. This media library also keeps tags, assotiated with the files. Collector can process any decider's output as long as it's a list of files."
   ]
  },
  {
   "cell_type": "code",
   "execution_count": 11,
   "id": "cd69b15e-575e-4c67-a42a-ca3fef660533",
   "metadata": {},
   "outputs": [
    {
     "data": {
      "text/html": [
       "<div>\n",
       "<style scoped>\n",
       "    .dataframe tbody tr th:only-of-type {\n",
       "        vertical-align: middle;\n",
       "    }\n",
       "\n",
       "    .dataframe tbody tr th {\n",
       "        vertical-align: top;\n",
       "    }\n",
       "\n",
       "    .dataframe thead th {\n",
       "        text-align: right;\n",
       "    }\n",
       "</style>\n",
       "<table border=\"1\" class=\"dataframe\">\n",
       "  <thead>\n",
       "    <tr style=\"text-align: right;\">\n",
       "      <th></th>\n",
       "      <th>index</th>\n",
       "      <th>option_index</th>\n",
       "      <th>filename</th>\n",
       "      <th>timestamp</th>\n",
       "      <th>job_id</th>\n",
       "    </tr>\n",
       "  </thead>\n",
       "  <tbody>\n",
       "    <tr>\n",
       "      <th>0</th>\n",
       "      <td>0</td>\n",
       "      <td>0</td>\n",
       "      <td>id_791917168c79486aafe900cf69f09384.output.0.json</td>\n",
       "      <td>2024-08-07 11:30:26.825840</td>\n",
       "      <td>id_791917168c79486aafe900cf69f09384</td>\n",
       "    </tr>\n",
       "    <tr>\n",
       "      <th>1</th>\n",
       "      <td>0</td>\n",
       "      <td>1</td>\n",
       "      <td>id_791917168c79486aafe900cf69f09384.output.1.json</td>\n",
       "      <td>2024-08-07 11:30:26.825840</td>\n",
       "      <td>id_791917168c79486aafe900cf69f09384</td>\n",
       "    </tr>\n",
       "    <tr>\n",
       "      <th>2</th>\n",
       "      <td>0</td>\n",
       "      <td>2</td>\n",
       "      <td>id_791917168c79486aafe900cf69f09384.output.2.json</td>\n",
       "      <td>2024-08-07 11:30:26.825840</td>\n",
       "      <td>id_791917168c79486aafe900cf69f09384</td>\n",
       "    </tr>\n",
       "    <tr>\n",
       "      <th>3</th>\n",
       "      <td>0</td>\n",
       "      <td>3</td>\n",
       "      <td>id_791917168c79486aafe900cf69f09384.output.3.json</td>\n",
       "      <td>2024-08-07 11:30:26.825840</td>\n",
       "      <td>id_791917168c79486aafe900cf69f09384</td>\n",
       "    </tr>\n",
       "    <tr>\n",
       "      <th>4</th>\n",
       "      <td>1</td>\n",
       "      <td>0</td>\n",
       "      <td>id_29999e384ca74319b5d8247e1cb58f3a.output.0.json</td>\n",
       "      <td>2024-08-07 11:30:26.825840</td>\n",
       "      <td>id_29999e384ca74319b5d8247e1cb58f3a</td>\n",
       "    </tr>\n",
       "  </tbody>\n",
       "</table>\n",
       "</div>"
      ],
      "text/plain": [
       "   index  option_index                                           filename  \\\n",
       "0      0             0  id_791917168c79486aafe900cf69f09384.output.0.json   \n",
       "1      0             1  id_791917168c79486aafe900cf69f09384.output.1.json   \n",
       "2      0             2  id_791917168c79486aafe900cf69f09384.output.2.json   \n",
       "3      0             3  id_791917168c79486aafe900cf69f09384.output.3.json   \n",
       "4      1             0  id_29999e384ca74319b5d8247e1cb58f3a.output.0.json   \n",
       "\n",
       "                   timestamp                               job_id  \n",
       "0 2024-08-07 11:30:26.825840  id_791917168c79486aafe900cf69f09384  \n",
       "1 2024-08-07 11:30:26.825840  id_791917168c79486aafe900cf69f09384  \n",
       "2 2024-08-07 11:30:26.825840  id_791917168c79486aafe900cf69f09384  \n",
       "3 2024-08-07 11:30:26.825840  id_791917168c79486aafe900cf69f09384  \n",
       "4 2024-08-07 11:30:26.825840  id_29999e384ca74319b5d8247e1cb58f3a  "
      ]
     },
     "execution_count": 11,
     "metadata": {},
     "output_type": "execute_result"
    }
   ],
   "source": [
    "from kaia.brainbox import MediaLibrary\n",
    "\n",
    "lib = MediaLibrary.read(library)\n",
    "lib.to_df().head(5)"
   ]
  },
  {
   "cell_type": "markdown",
   "id": "2da95b77-2d42-4b83-a737-f596f1474ade",
   "metadata": {},
   "source": [
    "The files can be extracted from the library:"
   ]
  },
  {
   "cell_type": "code",
   "execution_count": 12,
   "id": "9522634b-aff0-47c3-bb48-75e50a692368",
   "metadata": {},
   "outputs": [
    {
     "data": {
      "text/plain": [
       "b'{\"prompt\": \"Some prompt\", \"option_index\": 0, \"model\": null}'"
      ]
     },
     "execution_count": 12,
     "metadata": {},
     "output_type": "execute_result"
    }
   ],
   "source": [
    "lib.records[0].get_content()"
   ]
  },
  {
   "cell_type": "markdown",
   "id": "2475658a-ea3e-4772-a814-2cece515542d",
   "metadata": {},
   "source": [
    "## TaskPack\n",
    "\n",
    "The approach with `Collector` and `MediaLibrary` is very handy to generate content. Some additional syntax sugar was created to make this as easy as possible in the code. `BrainBoxTaskPack` allows you:\n",
    "* to define intermediate tasks that are required to complete the main, `resulting_task`\n",
    "* to define postprocessor that will be performed on the API side with the result: e.g., to download the file and to open it with `MediaLibrary.read`\n",
    "\n",
    "It is important to remember that all the pack-related functionality is performed by API, not by the BrainBox web-server.\n",
    "\n",
    "Also, `Collector.PackBuilder` allows you to define packs for the collection tasks easily."
   ]
  },
  {
   "cell_type": "code",
   "execution_count": 18,
   "id": "c4bfc7a0-9fa6-4cce-821d-7bb65d5616cf",
   "metadata": {},
   "outputs": [
    {
     "data": {
      "text/html": [
       "<div>\n",
       "<style scoped>\n",
       "    .dataframe tbody tr th:only-of-type {\n",
       "        vertical-align: middle;\n",
       "    }\n",
       "\n",
       "    .dataframe tbody tr th {\n",
       "        vertical-align: top;\n",
       "    }\n",
       "\n",
       "    .dataframe thead th {\n",
       "        text-align: right;\n",
       "    }\n",
       "</style>\n",
       "<table border=\"1\" class=\"dataframe\">\n",
       "  <thead>\n",
       "    <tr style=\"text-align: right;\">\n",
       "      <th></th>\n",
       "      <th>index</th>\n",
       "      <th>option_index</th>\n",
       "      <th>filename</th>\n",
       "      <th>timestamp</th>\n",
       "      <th>job_id</th>\n",
       "    </tr>\n",
       "  </thead>\n",
       "  <tbody>\n",
       "    <tr>\n",
       "      <th>0</th>\n",
       "      <td>0</td>\n",
       "      <td>0</td>\n",
       "      <td>id_abeffff972af4814a9b6b93ec2dc66d1.output.0.json</td>\n",
       "      <td>2024-08-07 11:31:23.522448</td>\n",
       "      <td>id_abeffff972af4814a9b6b93ec2dc66d1</td>\n",
       "    </tr>\n",
       "    <tr>\n",
       "      <th>1</th>\n",
       "      <td>0</td>\n",
       "      <td>1</td>\n",
       "      <td>id_abeffff972af4814a9b6b93ec2dc66d1.output.1.json</td>\n",
       "      <td>2024-08-07 11:31:23.522448</td>\n",
       "      <td>id_abeffff972af4814a9b6b93ec2dc66d1</td>\n",
       "    </tr>\n",
       "    <tr>\n",
       "      <th>2</th>\n",
       "      <td>0</td>\n",
       "      <td>2</td>\n",
       "      <td>id_abeffff972af4814a9b6b93ec2dc66d1.output.2.json</td>\n",
       "      <td>2024-08-07 11:31:23.522448</td>\n",
       "      <td>id_abeffff972af4814a9b6b93ec2dc66d1</td>\n",
       "    </tr>\n",
       "    <tr>\n",
       "      <th>3</th>\n",
       "      <td>0</td>\n",
       "      <td>3</td>\n",
       "      <td>id_abeffff972af4814a9b6b93ec2dc66d1.output.3.json</td>\n",
       "      <td>2024-08-07 11:31:23.522448</td>\n",
       "      <td>id_abeffff972af4814a9b6b93ec2dc66d1</td>\n",
       "    </tr>\n",
       "    <tr>\n",
       "      <th>4</th>\n",
       "      <td>1</td>\n",
       "      <td>0</td>\n",
       "      <td>id_21914e73d6fc48ecaf4b02718950089b.output.0.json</td>\n",
       "      <td>2024-08-07 11:31:23.522448</td>\n",
       "      <td>id_21914e73d6fc48ecaf4b02718950089b</td>\n",
       "    </tr>\n",
       "  </tbody>\n",
       "</table>\n",
       "</div>"
      ],
      "text/plain": [
       "   index  option_index                                           filename  \\\n",
       "0      0             0  id_abeffff972af4814a9b6b93ec2dc66d1.output.0.json   \n",
       "1      0             1  id_abeffff972af4814a9b6b93ec2dc66d1.output.1.json   \n",
       "2      0             2  id_abeffff972af4814a9b6b93ec2dc66d1.output.2.json   \n",
       "3      0             3  id_abeffff972af4814a9b6b93ec2dc66d1.output.3.json   \n",
       "4      1             0  id_21914e73d6fc48ecaf4b02718950089b.output.0.json   \n",
       "\n",
       "                   timestamp                               job_id  \n",
       "0 2024-08-07 11:31:23.522448  id_abeffff972af4814a9b6b93ec2dc66d1  \n",
       "1 2024-08-07 11:31:23.522448  id_abeffff972af4814a9b6b93ec2dc66d1  \n",
       "2 2024-08-07 11:31:23.522448  id_abeffff972af4814a9b6b93ec2dc66d1  \n",
       "3 2024-08-07 11:31:23.522448  id_abeffff972af4814a9b6b93ec2dc66d1  \n",
       "4 2024-08-07 11:31:23.522448  id_21914e73d6fc48ecaf4b02718950089b  "
      ]
     },
     "execution_count": 18,
     "metadata": {},
     "output_type": "execute_result"
    }
   ],
   "source": [
    "from kaia.brainbox import BrainBoxTaskPack, DownloadingPostprocessor\n",
    "\n",
    "builder = Collector.PackBuilder()\n",
    "\n",
    "for i in range(5):\n",
    "    builder.append(BrainBoxTask.call(FakeImageDecider)(prompt='Some prompt').to_task(), dict(index=i))\n",
    "\n",
    "pack = builder.to_collector_pack('to_media_library')\n",
    "pack.postprocessor = DownloadingPostprocessor(opener=MediaLibrary.read)\n",
    "\n",
    "with BrainBoxTestApi(deciders) as api:\n",
    "    lib = api.execute(pack)\n",
    "\n",
    "lib.to_df().head()"
   ]
  },
  {
   "cell_type": "markdown",
   "id": "89275c78-c7c1-444c-bf43-fb2faa0274fb",
   "metadata": {},
   "source": [
    "Here, `Collector.to_media_library` originally returns a filename, but postprocessor automatically downloads it and opens with a provided method. BrainBoxTaskPack is a handy way of representing complex task networks in your applications and then work with a single-liner `api.execute` to obtain the programmatical representation of the result in the application."
   ]
  }
 ],
 "metadata": {
  "kernelspec": {
   "display_name": "Python 3 (ipykernel)",
   "language": "python",
   "name": "python3"
  },
  "language_info": {
   "codemirror_mode": {
    "name": "ipython",
    "version": 3
   },
   "file_extension": ".py",
   "mimetype": "text/x-python",
   "name": "python",
   "nbconvert_exporter": "python",
   "pygments_lexer": "ipython3",
   "version": "3.11.9"
  }
 },
 "nbformat": 4,
 "nbformat_minor": 5
}
