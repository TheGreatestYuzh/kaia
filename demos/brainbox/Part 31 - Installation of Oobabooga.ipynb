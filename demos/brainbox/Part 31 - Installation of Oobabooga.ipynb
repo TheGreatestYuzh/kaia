{
 "cells": [
  {
   "cell_type": "markdown",
   "id": "1324a32e",
   "metadata": {},
   "source": [
    "# Installation"
   ]
  },
  {
   "cell_type": "code",
   "execution_count": 1,
   "id": "ff085bd1",
   "metadata": {},
   "outputs": [],
   "source": [
    "from kaia.brainbox import BrainBox\n",
    "\n",
    "box = BrainBox()\n",
    "settings = box.settings.oobabooga"
   ]
  },
  {
   "cell_type": "code",
   "execution_count": 2,
   "id": "01519cc4",
   "metadata": {},
   "outputs": [],
   "source": [
    "from kaia.infra import ConsoleExecutor\n",
    "\n",
    "ConsoleExecutor.wait = True"
   ]
  },
  {
   "cell_type": "code",
   "execution_count": 3,
   "id": "17bd8ff9",
   "metadata": {},
   "outputs": [],
   "source": [
    "if not settings.oobabooga_path.is_dir():\n",
    "    ConsoleExecutor.execute(f'git clone https://github.com/oobabooga/text-generation-webui.git {settings.oobabooga_path}')"
   ]
  },
  {
   "cell_type": "markdown",
   "id": "38287fbb",
   "metadata": {},
   "source": [
    "The following cell will execute the installation script. You will need to answer several questions in the console window."
   ]
  },
  {
   "cell_type": "code",
   "execution_count": 4,
   "id": "ff3599ab",
   "metadata": {},
   "outputs": [],
   "source": [
    "from kaia.infra import Loc\n",
    "\n",
    "if not (settings.oobabooga_path/'installer_files').is_dir():\n",
    "    if Loc.is_windows:\n",
    "        ConsoleExecutor.execute(f'{settings.oobabooga_path/\"start_windows.bat\"}')\n",
    "    else:\n",
    "        ConsoleExecutor.execute(f'{settings.oobabooga_path/\"start_linux.sh\"}')"
   ]
  },
  {
   "cell_type": "markdown",
   "id": "c79f06e6",
   "metadata": {},
   "source": [
    "After the installation is complete, open the link in the console window. \n",
    "\n",
    "Open the link, go in \"Models\" tab and download a model https://huggingface.co/4bit/WizardLM-13B-Uncensored-4bit-128g , configure it with `ExLlama` loader and default parameters. Save the settings. Try to chat with a model in a \"Chat\" tab. After that, close the console window.\n"
   ]
  },
  {
   "cell_type": "markdown",
   "id": "f6e2b487",
   "metadata": {},
   "source": [
    "# Usage\n",
    "\n",
    "As with other models, we implemented a Decider interface for Oobabooga:"
   ]
  },
  {
   "cell_type": "code",
   "execution_count": 5,
   "id": "fe7d61e7",
   "metadata": {},
   "outputs": [
    {
     "data": {
      "text/html": [
       "<a href=http://127.0.0.1:7860 target=_blank>Open Oobabooga in browser</a>"
      ],
      "text/plain": [
       "<IPython.core.display.HTML object>"
      ]
     },
     "execution_count": 5,
     "metadata": {},
     "output_type": "execute_result"
    }
   ],
   "source": [
    "ooba = box.create_deciders_dict()['Oobabooga']\n",
    "ooba.warmup()"
   ]
  },
  {
   "cell_type": "code",
   "execution_count": 6,
   "id": "239e5473",
   "metadata": {},
   "outputs": [
    {
     "name": "stdout",
     "output_type": "stream",
     "text": [
      "Provide a recipy of how to cook a borshch.\n",
      "1. In a large pot, heat up 2-3 inches of vegetable oil over medium heat.\n",
      "2. Add the chopped onions and sauté until they become soft and translucent.\n",
      "3. Add the minced garlic and continue sautéing for another minute or so.\n",
      "4. Add the chicken broth, salt, pepper, and dried basil to the pot. Stir well to combine.\n",
      "5. Bring the mixture to a boil, then reduce the heat to low and let it simmer for about 30 minutes.\n",
      "6. While the soup is simmering, prepare the ingredients for the garnish. Cut the fresh parsley and lemon wedges into small pieces.\n",
      "7. After 30 minutes, remove the pot from the heat and use an immersion blender or transfer the soup to a blender to puree until smooth.\n",
      "8. Return the pot to the stove and add the fresh parsley and lemon wedges to the soup. Stir well to combine.\n",
      "9. Serve hot with sour cream or yogurt if desired. Enjoy\n"
     ]
    }
   ],
   "source": [
    "prompt = 'Provide a recipy of how to cook a borshch.\\n1.'\n",
    "print(prompt+ooba.run(prompt))"
   ]
  },
  {
   "cell_type": "code",
   "execution_count": 7,
   "id": "6ec9a12f",
   "metadata": {},
   "outputs": [],
   "source": [
    "ooba.cooldown()"
   ]
  }
 ],
 "metadata": {
  "kernelspec": {
   "display_name": "Python 3 (ipykernel)",
   "language": "python",
   "name": "python3"
  },
  "language_info": {
   "codemirror_mode": {
    "name": "ipython",
    "version": 3
   },
   "file_extension": ".py",
   "mimetype": "text/x-python",
   "name": "python",
   "nbconvert_exporter": "python",
   "pygments_lexer": "ipython3",
   "version": "3.8.16"
  }
 },
 "nbformat": 4,
 "nbformat_minor": 5
}
